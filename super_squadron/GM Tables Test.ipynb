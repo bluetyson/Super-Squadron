{
 "cells": [
  {
   "cell_type": "code",
   "execution_count": 1,
   "id": "6f1876a6",
   "metadata": {},
   "outputs": [],
   "source": [
    "import pandas as pd\n",
    "import numpy as np\n",
    "import random\n",
    "import time\n",
    "import datetime\n",
    "import copy\n",
    "import json\n",
    "import math\n"
   ]
  },
  {
   "cell_type": "markdown",
   "id": "2557ac17",
   "metadata": {},
   "source": [
    "## Reaction test"
   ]
  },
  {
   "cell_type": "code",
   "execution_count": 16,
   "id": "9fd92984",
   "metadata": {},
   "outputs": [],
   "source": [
    "gm = pd.read_csv('gm.csv', low_memory=False)"
   ]
  },
  {
   "cell_type": "code",
   "execution_count": 17,
   "id": "f44a9ded",
   "metadata": {},
   "outputs": [
    {
     "data": {
      "text/plain": [
       "10    Very Enthusiastic. Offers assistance.\n",
       "Name: Reaction, dtype: object"
      ]
     },
     "execution_count": 17,
     "metadata": {},
     "output_type": "execute_result"
    }
   ],
   "source": [
    "Reaction_roll = gm['Reaction'].sample()\n",
    "\n",
    "Reaction_DM = gm.iloc[Reaction_roll.index]['Reaction_ReactionDM'].values[0]\n",
    "\n",
    "Reaction_roll"
   ]
  },
  {
   "cell_type": "markdown",
   "id": "bb8b6681",
   "metadata": {},
   "source": [
    "## Loyalty test"
   ]
  },
  {
   "cell_type": "code",
   "execution_count": 18,
   "id": "52001a4d",
   "metadata": {},
   "outputs": [
    {
     "data": {
      "text/plain": [
       "-30"
      ]
     },
     "execution_count": 18,
     "metadata": {},
     "output_type": "execute_result"
    }
   ],
   "source": [
    "Reaction_DM"
   ]
  },
  {
   "cell_type": "code",
   "execution_count": 19,
   "id": "1adc2e43",
   "metadata": {},
   "outputs": [
    {
     "name": "stdout",
     "output_type": "stream",
     "text": [
      "Base Roll: 100    Treacherous. Will desert at the first opportun...\n",
      "Name: Loyalty, dtype: object\n",
      "Adjusted Roll: Average. Content to be a non-entity.\n",
      "0\n"
     ]
    }
   ],
   "source": [
    "Loyalty_roll = gm['Loyalty'].sample()\n",
    "print(\"Base Roll:\", Loyalty_roll)\n",
    "if (Loyalty_roll.index + Reaction_DM) >=0:\n",
    "    if (Loyalty_roll.index + Reaction_DM) <= 100:\n",
    "        Adjusted_roll = gm.iloc[Loyalty_roll.index + Reaction_DM]['Loyalty'].values[0]\n",
    "        Morale_DM = gm.iloc[Loyalty_roll.index + Reaction_DM]['Loyalty_MoraleDM'].values[0]\n",
    "    else:\n",
    "        Adjusted_roll = gm.iloc[100]['Loyalty'].values[0]\n",
    "        Morale_DM = gm.iloc[100]['Loyalty_MoraleDM'].values[0]\n",
    "else:\n",
    "    Adjusted_roll = gm.iloc[0]['Loyalty'].values[0]\n",
    "    Morale_DM = gm.iloc[0]['Loyalty_MoraleDM'].values[0]\n",
    "    \n",
    "print(\"Adjusted Roll:\", Adjusted_roll)\n",
    "print(Morale_DM)"
   ]
  },
  {
   "cell_type": "markdown",
   "id": "05d1e809",
   "metadata": {},
   "source": [
    "## Morale test"
   ]
  },
  {
   "cell_type": "code",
   "execution_count": 24,
   "id": "7966e1be",
   "metadata": {},
   "outputs": [
    {
     "name": "stdout",
     "output_type": "stream",
     "text": [
      "Morale DM: 0\n",
      "Base Roll: 11    Kamikaze. The character will attack the neares...\n",
      "Name: Morale, dtype: object\n",
      "Adjusted Morale Roll: Kamikaze. The character will attack the nearest opponent at a -25% DM. Only one attack may be made, doing double damage if successful. If their opp is still on their feet, they will surrender unconditionally, otherwise flee.\n"
     ]
    }
   ],
   "source": [
    "print(\"Morale DM:\", Morale_DM)\n",
    "\n",
    "Morale_roll = gm['Morale'].sample()\n",
    "print(\"Base Roll:\", Morale_roll)\n",
    "\n",
    "if (Morale_roll.index + Morale_DM) >=0:\n",
    "    if (Morale_roll.index + Morale_DM) <= 100:\n",
    "        Adjusted_Morale_roll = gm.iloc[Morale_roll.index + Morale_DM]['Morale'].values[0]\n",
    "    else:\n",
    "        Adjusted_Morale_roll = gm.iloc[100]['Morale'].values[0]\n",
    "else:\n",
    "    Adjusted_Morale__roll = gm.iloc[0]['Morale'].values[0]\n",
    "    \n",
    "print(\"Adjusted Morale Roll:\", Adjusted_Morale_roll)"
   ]
  },
  {
   "cell_type": "code",
   "execution_count": null,
   "id": "4bd7012b",
   "metadata": {},
   "outputs": [],
   "source": []
  }
 ],
 "metadata": {
  "kernelspec": {
   "display_name": "Python [conda env:pangeo4]",
   "language": "python",
   "name": "conda-env-pangeo4-py"
  },
  "language_info": {
   "codemirror_mode": {
    "name": "ipython",
    "version": 3
   },
   "file_extension": ".py",
   "mimetype": "text/x-python",
   "name": "python",
   "nbconvert_exporter": "python",
   "pygments_lexer": "ipython3",
   "version": "3.8.12"
  }
 },
 "nbformat": 4,
 "nbformat_minor": 5
}
