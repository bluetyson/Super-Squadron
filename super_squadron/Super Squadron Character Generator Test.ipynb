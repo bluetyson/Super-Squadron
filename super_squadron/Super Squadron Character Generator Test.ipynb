{
 "cells": [
  {
   "cell_type": "code",
   "execution_count": 1,
   "id": "4aa2e1d3",
   "metadata": {},
   "outputs": [],
   "source": [
    "import pandas as pd\n",
    "import numpy as np\n",
    "import random\n",
    "import time\n",
    "import datetime\n",
    "import copy\n",
    "import json"
   ]
  },
  {
   "cell_type": "code",
   "execution_count": 36,
   "id": "e12b33d2",
   "metadata": {},
   "outputs": [],
   "source": [
    "Character = {}\n",
    "Character['Statistics'] = {}\n",
    "Character['Origin'] = {}\n",
    "Character['Powers'] = {}"
   ]
  },
  {
   "cell_type": "code",
   "execution_count": 58,
   "id": "a8ae7a37",
   "metadata": {},
   "outputs": [],
   "source": [
    "def roll_statistic():\n",
    "    statistic = np.random.randint(1,20)\n",
    "    return statistic\n",
    "\n",
    "def roll_luck():\n",
    "    luck = 0\n",
    "    roll = np.random.randint(1,100)\n",
    "    if roll < 11:\n",
    "        luck = 11 - roll\n",
    "    return luck\n",
    "\n",
    "def roll_origin():\n",
    "    origin_dict = {}\n",
    "    roll = np.random.randint(1,10)\n",
    "    origin_dict['Artifact'] = \"No\"\n",
    "    origin_dict['Lifespan'] = \"Human\"\n",
    "    if roll <= 3:\n",
    "        origin = \"Mutant\"\n",
    "        age = np.random.randint(1,12) + 15\n",
    "    elif roll == 4:\n",
    "        origin = \"Self Developed\"\n",
    "        age = np.random.randint(1,12) + 25\n",
    "    elif roll == 5:\n",
    "        origin = \"Supernatural\"\n",
    "        age = np.random.randint(1,10) + 20\n",
    "    elif roll == 6:\n",
    "        origin = \"Designed or Sponsored\"\n",
    "        age = np.random.randint(1,12) + 25\n",
    "    elif roll == 10:\n",
    "        origin = \"Alien\"\n",
    "        age = np.random.randint(1,10) * np.random.randint(1,6)\n",
    "        lifespan = np.random.randint(1,20) * np.random.randint(1,20)\n",
    "    else:\n",
    "        origin = \"Accidental/Scientific\"\n",
    "        age = np.random.randint(1,8) * np.random.randint(1,6) + 25\n",
    "        artifact_roll = np.random.randint(1,100)\n",
    "        if artifact_roll <= 5:\n",
    "            origin_dict['Artifact'] = \"Yes\"\n",
    "        \n",
    "    origin_dict['Origin'] = origin\n",
    "    origin_dict['Age'] = age\n",
    "    return origin_dict\n",
    "\n",
    "def roll_effects(number, dice_sides):\n",
    "    roll_total = 0\n",
    "    for roll in range(number):\n",
    "        dice_roll = np.random.randint(1,dice_sides)\n",
    "        roll_total = roll_total + dice_roll\n",
    "        \n",
    "    return roll_total"
   ]
  },
  {
   "cell_type": "code",
   "execution_count": 3,
   "id": "56b1ea34",
   "metadata": {},
   "outputs": [],
   "source": [
    "Statistics = {\"Strength\":10,\"Agility\":10,\"Charisma\":10,\"Intelligence\":10,\"Stamina\":10,\n",
    "              \"Public Standing\":11,\"Ego\":11,\"Luck\":0}\n",
    "Statistics_Abv = ['ST','AG','CH','IQ','SA','PS','EG','LK']"
   ]
  },
  {
   "cell_type": "markdown",
   "id": "5bf66000",
   "metadata": {},
   "source": [
    "## Roll Main Statistics"
   ]
  },
  {
   "cell_type": "markdown",
   "id": "e891b847",
   "metadata": {},
   "source": [
    "Can reroll if main stats are not greater than 60"
   ]
  },
  {
   "cell_type": "code",
   "execution_count": 10,
   "id": "c6dadb5f",
   "metadata": {},
   "outputs": [
    {
     "name": "stdout",
     "output_type": "stream",
     "text": [
      "Strength 14\n",
      "Agility 11\n",
      "Charisma 10\n",
      "Intelligence 18\n",
      "Stamina 10\n",
      "Total: 63\n"
     ]
    }
   ],
   "source": [
    "stats_total = 0\n",
    "while stats_total <= 60:\n",
    "    for index, key in enumerate(Statistics.keys()):\n",
    "        if index < 5:\n",
    "            Statistics[key] = roll_statistic()\n",
    "            stats_total = stats_total + Statistics[key]\n",
    "            print(key, Statistics[key])\n",
    "    print(\"Total:\", stats_total)"
   ]
  },
  {
   "cell_type": "markdown",
   "id": "aa2bc9d4",
   "metadata": {},
   "source": [
    "## Roll Other Statistics"
   ]
  },
  {
   "cell_type": "code",
   "execution_count": 14,
   "id": "ba0ce2e5",
   "metadata": {},
   "outputs": [
    {
     "data": {
      "text/plain": [
       "{'Strength': 14,\n",
       " 'Agility': 11,\n",
       " 'Charisma': 10,\n",
       " 'Intelligence': 18,\n",
       " 'Stamina': 10,\n",
       " 'Public Standing': 11,\n",
       " 'Ego': 6,\n",
       " 'Luck': 0}"
      ]
     },
     "execution_count": 14,
     "metadata": {},
     "output_type": "execute_result"
    }
   ],
   "source": [
    "Statistics['Ego'] = roll_statistic()\n",
    "Statistics['Luck'] = roll_luck()\n",
    "\n",
    "Statistics"
   ]
  },
  {
   "cell_type": "markdown",
   "id": "a662fe92",
   "metadata": {},
   "source": [
    "## Roll Origin"
   ]
  },
  {
   "cell_type": "code",
   "execution_count": 19,
   "id": "142d3ec1",
   "metadata": {},
   "outputs": [
    {
     "data": {
      "text/plain": [
       "{'Artifact': 'No', 'Lifespan': 'Human', 'Origin': 'Mutant', 'Age': 16}"
      ]
     },
     "execution_count": 19,
     "metadata": {},
     "output_type": "execute_result"
    }
   ],
   "source": [
    "Origin = roll_origin()\n",
    "Origin"
   ]
  },
  {
   "cell_type": "code",
   "execution_count": 29,
   "id": "d7bccf46",
   "metadata": {},
   "outputs": [],
   "source": [
    "df = pd.read_csv('powers.csv')"
   ]
  },
  {
   "cell_type": "markdown",
   "id": "cd313b46",
   "metadata": {},
   "source": [
    "## Roll Powers"
   ]
  },
  {
   "cell_type": "markdown",
   "id": "5b366bf7",
   "metadata": {},
   "source": [
    "### Number of Powers"
   ]
  },
  {
   "cell_type": "code",
   "execution_count": 23,
   "id": "a030c832",
   "metadata": {},
   "outputs": [
    {
     "data": {
      "text/plain": [
       "{'Number': 2}"
      ]
     },
     "execution_count": 23,
     "metadata": {},
     "output_type": "execute_result"
    }
   ],
   "source": [
    "Powers_roll = df['Powers'].sample()\n",
    "Powers = {}\n",
    "Powers['Number'] = Powers_roll.values[0]\n",
    "Powers"
   ]
  },
  {
   "cell_type": "code",
   "execution_count": 30,
   "id": "b017b1d2",
   "metadata": {},
   "outputs": [
    {
     "name": "stdout",
     "output_type": "stream",
     "text": [
      "Immortality\n",
      "Defect\n"
     ]
    }
   ],
   "source": [
    "Powers['List'] = []\n",
    "for power in range(Powers['Number']):\n",
    "    Power_roll = df[Origin['Origin']].sample().values[0]\n",
    "    print(Power_roll)\n",
    "    Powers['List'].append(Power_roll)\n",
    "    \n",
    "    "
   ]
  },
  {
   "cell_type": "code",
   "execution_count": 31,
   "id": "a482aa26",
   "metadata": {},
   "outputs": [
    {
     "data": {
      "text/plain": [
       "{'Number': 2, 'List': ['Immortality', 'Defect']}"
      ]
     },
     "execution_count": 31,
     "metadata": {},
     "output_type": "execute_result"
    }
   ],
   "source": [
    "Powers"
   ]
  },
  {
   "cell_type": "code",
   "execution_count": 32,
   "id": "eb7e3394",
   "metadata": {},
   "outputs": [],
   "source": [
    "#none"
   ]
  },
  {
   "cell_type": "code",
   "execution_count": 33,
   "id": "7c9eb227",
   "metadata": {},
   "outputs": [
    {
     "data": {
      "text/plain": [
       "{'Strength': 14,\n",
       " 'Agility': 11,\n",
       " 'Charisma': 10,\n",
       " 'Intelligence': 18,\n",
       " 'Stamina': 10,\n",
       " 'Public Standing': 11,\n",
       " 'Ego': 6,\n",
       " 'Luck': 0}"
      ]
     },
     "execution_count": 33,
     "metadata": {},
     "output_type": "execute_result"
    }
   ],
   "source": [
    "Statistics"
   ]
  },
  {
   "cell_type": "code",
   "execution_count": 34,
   "id": "68a78431",
   "metadata": {},
   "outputs": [
    {
     "data": {
      "text/plain": [
       "{'Number': 2, 'List': ['Immortality', 'Defect']}"
      ]
     },
     "execution_count": 34,
     "metadata": {},
     "output_type": "execute_result"
    }
   ],
   "source": [
    "Powers"
   ]
  },
  {
   "cell_type": "code",
   "execution_count": 38,
   "id": "d8540b66",
   "metadata": {},
   "outputs": [
    {
     "data": {
      "text/plain": [
       "{'Statistics': {'Strength': 14,\n",
       "  'Agility': 11,\n",
       "  'Charisma': 10,\n",
       "  'Intelligence': 18,\n",
       "  'Stamina': 10,\n",
       "  'Public Standing': 11,\n",
       "  'Ego': 6,\n",
       "  'Luck': 0},\n",
       " 'Origin': {'Artifact': 'No',\n",
       "  'Lifespan': 'Human',\n",
       "  'Origin': 'Mutant',\n",
       "  'Age': 16},\n",
       " 'Powers': {'Number': 2, 'List': ['Immortality', 'Defect']},\n",
       " 'Strength_Effects': {},\n",
       " 'Agility_Effects': {},\n",
       " 'Charisma_Effects': {},\n",
       " 'Intelligence_Effects': {},\n",
       " 'Stamina_Effects': {},\n",
       " 'Public Standing_Effects': {},\n",
       " 'Ego_Effects': {},\n",
       " 'Luck_Effects': {}}"
      ]
     },
     "execution_count": 38,
     "metadata": {},
     "output_type": "execute_result"
    }
   ],
   "source": [
    "Character['Statistics'] = Statistics\n",
    "Character['Origin'] = Origin\n",
    "Character['Powers'] = Powers\n",
    "\n",
    "for key in Character['Statistics'].keys():\n",
    "    Character[key + '_Effects'] = {}\n",
    "Character"
   ]
  },
  {
   "cell_type": "code",
   "execution_count": 55,
   "id": "9783ef6b",
   "metadata": {},
   "outputs": [],
   "source": [
    "dfc = pd.read_csv('characteristics.csv', low_memory=False)"
   ]
  },
  {
   "cell_type": "code",
   "execution_count": 71,
   "id": "aac19e9f",
   "metadata": {},
   "outputs": [
    {
     "data": {
      "text/plain": [
       "{'Statistics': {'Strength': 14,\n",
       "  'Agility': 11,\n",
       "  'Charisma': 10,\n",
       "  'Intelligence': 18,\n",
       "  'Stamina': 10,\n",
       "  'Public Standing': 11,\n",
       "  'Ego': 6,\n",
       "  'Luck': 0},\n",
       " 'Origin': {'Artifact': 'No',\n",
       "  'Lifespan': 'Human',\n",
       "  'Origin': 'Mutant',\n",
       "  'Age': 16},\n",
       " 'Powers': {'Number': 2, 'List': ['Immortality', 'Defect']},\n",
       " 'Strength_Effects': {'Description': 'Average SB', 'HT': '0', 'DD': '1'},\n",
       " 'Agility_Effects': {'Description': 'Average Person',\n",
       "  'HT': 0,\n",
       "  'DD': 0,\n",
       "  'Move': 50,\n",
       "  'Accuracy': 0},\n",
       " 'Charisma_Effects': {'ReactionHero': 0, 'ReactionVillain': 0},\n",
       " 'Intelligence_Effects': {'Accuracy': 10,\n",
       "  'HT': 2,\n",
       "  'DD': 1,\n",
       "  'DetectEntrances': 22,\n",
       "  'DetectTraps': 27},\n",
       " 'Stamina_Effects': {},\n",
       " 'Public Standing_Effects': {},\n",
       " 'Ego_Effects': {},\n",
       " 'Luck_Effects': {}}"
      ]
     },
     "execution_count": 71,
     "metadata": {},
     "output_type": "execute_result"
    }
   ],
   "source": [
    "stat = 'Strength'\n",
    "Character[stat + '_Effects']['Description'] = dfc[stat].iloc[Character['Statistics'][stat]]\n",
    "Character[stat + '_Effects']['HT'] = dfc[stat + '_HT'].iloc[Character['Statistics'][stat]]\n",
    "Character[stat + '_Effects']['DD'] = dfc[stat + '_DD'].iloc[Character['Statistics'][stat]]\n",
    "\n",
    "if 'd' in Character[stat + '_Effects']['HT']:\n",
    "    if '+' not in Character[stat + '_Effects']['HT']:\n",
    "        roll_list = Character[stat + '_Effects']['HT'].split('d')\n",
    "        Character[stat + '_Effects']['HT'] = roll_effects( int(roll_list[0]), int(roll_list[1]))\n",
    "    else:\n",
    "        roll_list_plus = Character[stat + '_Effects']['HT'].split('+')\n",
    "        roll_list = roll_list_plus[0].split('d')\n",
    "        Character[stat + '_Effects']['HT'] = roll_effects( int(roll_list[0]), int(roll_list[1])) + int(roll_list_plus[1])\n",
    "if 'd' in Character[stat + '_Effects']['DD']:\n",
    "    if '+' not in Character[stat + '_Effects']['DD']:\n",
    "        roll_list = Character[stat + '_Effects']['DD'].split('d')\n",
    "        Character[stat + '_Effects']['DD'] = roll_effects( int(roll_list[0]), int(roll_list[1]))\n",
    "    else:\n",
    "        roll_list_plus = Character[stat + '_Effects']['DD'].split('+')\n",
    "        roll_list = roll_list_plus[0].split('d')\n",
    "        Character[stat + '_Effects']['DD'] = roll_effects( int(roll_list[0]), int(roll_list[1])) + int(roll_list_plus[1])\n",
    "\n",
    "stat = 'Agility'\n",
    "Character[stat + '_Effects']['Description'] = dfc[stat].iloc[Character['Statistics'][stat]]\n",
    "Character[stat + '_Effects']['Move'] = dfc[stat + '_Move'].iloc[Character['Statistics'][stat]]\n",
    "Character[stat + '_Effects']['Accuracy'] = dfc[stat + '_Accuracy'].iloc[Character['Statistics'][stat]]\n",
    "Character[stat + '_Effects']['HT'] = dfc[stat + '_HT'].iloc[Character['Statistics'][stat]]\n",
    "Character[stat + '_Effects']['DD'] = dfc[stat + '_DD'].iloc[Character['Statistics'][stat]]\n",
    "\n",
    "stat = 'Charisma'\n",
    "Character[stat + '_Effects']['ReactionHero'] = dfc[stat + '_ReactionHero'].iloc[Character['Statistics'][stat]]\n",
    "Character[stat + '_Effects']['ReactionVillain'] = dfc[stat + '_ReactionVillain'].iloc[Character['Statistics'][stat]]\n",
    "\n",
    "stat = 'Intelligence'\n",
    "Character[stat + '_Effects']['Accuracy'] = dfc[stat + '_Accuracy'].iloc[Character['Statistics'][stat]]\n",
    "Character[stat + '_Effects']['HT'] = dfc[stat + '_HT'].iloc[Character['Statistics'][stat]]\n",
    "Character[stat + '_Effects']['DD'] = dfc[stat + '_DD'].iloc[Character['Statistics'][stat]]\n",
    "Character[stat + '_Effects']['DetectEntrances'] = dfc[stat + '_DetectEntrances'].iloc[Character['Statistics'][stat]]\n",
    "Character[stat + '_Effects']['DetectTraps'] = dfc[stat + '_DetectTraps'].iloc[Character['Statistics'][stat]]\n",
    "\n",
    "if 'd' in Character[stat + '_Effects']['DetectEntrances']:\n",
    "    roll_list = Character[stat + '_Effects']['DetectEntrances'].split('d')\n",
    "    Character[stat + '_Effects']['DetectEntrances'] = roll_effects( int(roll_list[0]), int(roll_list[1]))\n",
    "\n",
    "if 'd' in Character[stat + '_Effects']['DetectTraps']:\n",
    "    roll_list = Character[stat + '_Effects']['DetectTraps'].split('d')\n",
    "    Character[stat + '_Effects']['DetectTraps'] = roll_effects( int(roll_list[0]), int(roll_list[1]))\n",
    "    \n",
    "\n",
    "Character"
   ]
  },
  {
   "cell_type": "code",
   "execution_count": 69,
   "id": "adf41f8f",
   "metadata": {},
   "outputs": [
    {
     "data": {
      "text/plain": [
       "Characteristic                   int64\n",
       "Strength                        object\n",
       "Strength_HT                     object\n",
       "Strength_DD                     object\n",
       "Agility                         object\n",
       "Agility_Move                     int64\n",
       "Agility_Accuracy                 int64\n",
       "Agility_HT                       int64\n",
       "Agility_DD                       int64\n",
       "Charisma                        object\n",
       "Charisma_ReactionHero            int64\n",
       "Charisma_ReactionVillain         int64\n",
       "Intelligence                    object\n",
       "Intelligence_HT                  int64\n",
       "Intelligence_DD                  int64\n",
       "Intelligence_Accuracy            int64\n",
       "Intelligence_DetectEntrances    object\n",
       "Intelligence_DetectTraps        object\n",
       "dtype: object"
      ]
     },
     "execution_count": 69,
     "metadata": {},
     "output_type": "execute_result"
    }
   ],
   "source": [
    "#del Character['Intelligence_Effects']['Traps']\n",
    "dfc.dtypes"
   ]
  },
  {
   "cell_type": "code",
   "execution_count": null,
   "id": "f21dc196",
   "metadata": {},
   "outputs": [],
   "source": []
  }
 ],
 "metadata": {
  "kernelspec": {
   "display_name": "Python [conda env:pangeo4]",
   "language": "python",
   "name": "conda-env-pangeo4-py"
  },
  "language_info": {
   "codemirror_mode": {
    "name": "ipython",
    "version": 3
   },
   "file_extension": ".py",
   "mimetype": "text/x-python",
   "name": "python",
   "nbconvert_exporter": "python",
   "pygments_lexer": "ipython3",
   "version": "3.8.12"
  }
 },
 "nbformat": 4,
 "nbformat_minor": 5
}
