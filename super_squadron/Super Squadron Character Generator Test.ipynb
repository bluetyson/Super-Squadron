{
 "cells": [
  {
   "cell_type": "code",
   "execution_count": 1,
   "id": "484c006d",
   "metadata": {},
   "outputs": [],
   "source": [
    "import pandas as pd\n",
    "import numpy as np\n",
    "import random\n",
    "import time\n",
    "import datetime\n",
    "import copy\n",
    "import json"
   ]
  },
  {
   "cell_type": "code",
   "execution_count": 36,
   "id": "7ed18254",
   "metadata": {},
   "outputs": [],
   "source": [
    "Character = {}\n",
    "Character['Statistics'] = {}\n",
    "Character['Origin'] = {}\n",
    "Character['Powers'] = {}"
   ]
  },
  {
   "cell_type": "code",
   "execution_count": 58,
   "id": "c5749590",
   "metadata": {},
   "outputs": [],
   "source": [
    "def roll_statistic():\n",
    "    statistic = np.random.randint(1,20)\n",
    "    return statistic\n",
    "\n",
    "def roll_luck():\n",
    "    luck = 0\n",
    "    roll = np.random.randint(1,100)\n",
    "    if roll < 11:\n",
    "        luck = 11 - roll\n",
    "    return luck\n",
    "\n",
    "def roll_origin():\n",
    "    origin_dict = {}\n",
    "    roll = np.random.randint(1,10)\n",
    "    origin_dict['Artifact'] = \"No\"\n",
    "    origin_dict['Lifespan'] = \"Human\"\n",
    "    if roll <= 3:\n",
    "        origin = \"Mutant\"\n",
    "        age = np.random.randint(1,12) + 15\n",
    "    elif roll == 4:\n",
    "        origin = \"Self Developed\"\n",
    "        age = np.random.randint(1,12) + 25\n",
    "    elif roll == 5:\n",
    "        origin = \"Supernatural\"\n",
    "        age = np.random.randint(1,10) + 20\n",
    "    elif roll == 6:\n",
    "        origin = \"Designed or Sponsored\"\n",
    "        age = np.random.randint(1,12) + 25\n",
    "    elif roll == 10:\n",
    "        origin = \"Alien\"\n",
    "        age = np.random.randint(1,10) * np.random.randint(1,6)\n",
    "        lifespan = np.random.randint(1,20) * np.random.randint(1,20)\n",
    "    else:\n",
    "        origin = \"Accidental/Scientific\"\n",
    "        age = np.random.randint(1,8) * np.random.randint(1,6) + 25\n",
    "        artifact_roll = np.random.randint(1,100)\n",
    "        if artifact_roll <= 5:\n",
    "            origin_dict['Artifact'] = \"Yes\"\n",
    "        \n",
    "    origin_dict['Origin'] = origin\n",
    "    origin_dict['Age'] = age\n",
    "    return origin_dict\n",
    "\n",
    "def roll_effects(number, dice_sides):\n",
    "    roll_total = 0\n",
    "    for roll in range(number):\n",
    "        dice_roll = np.random.randint(1,dice_sides)\n",
    "        roll_total = roll_total + dice_roll\n",
    "        \n",
    "    return roll_total"
   ]
  },
  {
   "cell_type": "code",
   "execution_count": 87,
   "id": "cc34d6f1",
   "metadata": {},
   "outputs": [],
   "source": [
    "Statistics = {\"Strength\":10,\"Agility\":10,\"Charisma\":10,\"Intelligence\":10,\"Stamina\":10,\n",
    "              \"PublicStanding\":11,\"Ego\":11,\"Luck\":0}\n",
    "Statistics_Abv = ['ST','AG','CH','IQ','SA','PS','EG','LK']"
   ]
  },
  {
   "cell_type": "markdown",
   "id": "c2615c85",
   "metadata": {},
   "source": [
    "## Roll Main Statistics"
   ]
  },
  {
   "cell_type": "markdown",
   "id": "30ab51c9",
   "metadata": {},
   "source": [
    "Can reroll if main stats are not greater than 60"
   ]
  },
  {
   "cell_type": "code",
   "execution_count": 89,
   "id": "afbe2e67",
   "metadata": {},
   "outputs": [
    {
     "name": "stdout",
     "output_type": "stream",
     "text": [
      "Strength 6\n",
      "Agility 7\n",
      "Charisma 19\n",
      "Intelligence 9\n",
      "Stamina 8\n",
      "Total: 49\n",
      "Strength 11\n",
      "Agility 15\n",
      "Charisma 14\n",
      "Intelligence 6\n",
      "Stamina 4\n",
      "Total: 50\n",
      "Strength 1\n",
      "Agility 19\n",
      "Charisma 14\n",
      "Intelligence 8\n",
      "Stamina 13\n",
      "Total: 55\n",
      "Strength 13\n",
      "Agility 13\n",
      "Charisma 12\n",
      "Intelligence 10\n",
      "Stamina 2\n",
      "Total: 50\n",
      "Strength 18\n",
      "Agility 2\n",
      "Charisma 13\n",
      "Intelligence 14\n",
      "Stamina 17\n",
      "Total: 64\n"
     ]
    }
   ],
   "source": [
    "stats_total = 0\n",
    "while stats_total <= 60:\n",
    "    stats_total = 0\n",
    "    for index, key in enumerate(Statistics.keys()):\n",
    "        if index < 5:\n",
    "            Statistics[key] = roll_statistic()\n",
    "            stats_total = stats_total + Statistics[key]\n",
    "            print(key, Statistics[key])\n",
    "    print(\"Total:\", stats_total)"
   ]
  },
  {
   "cell_type": "markdown",
   "id": "584d13d9",
   "metadata": {},
   "source": [
    "## Roll Other Statistics"
   ]
  },
  {
   "cell_type": "code",
   "execution_count": 90,
   "id": "3bd6c34c",
   "metadata": {},
   "outputs": [
    {
     "data": {
      "text/plain": [
       "{'Strength': 18,\n",
       " 'Agility': 2,\n",
       " 'Charisma': 13,\n",
       " 'Intelligence': 14,\n",
       " 'Stamina': 17,\n",
       " 'PublicStanding': 11,\n",
       " 'Ego': 10,\n",
       " 'Luck': 0}"
      ]
     },
     "execution_count": 90,
     "metadata": {},
     "output_type": "execute_result"
    }
   ],
   "source": [
    "Statistics['Ego'] = roll_statistic()\n",
    "Statistics['Luck'] = roll_luck()\n",
    "\n",
    "Statistics"
   ]
  },
  {
   "cell_type": "markdown",
   "id": "f7ce0353",
   "metadata": {},
   "source": [
    "## Roll Origin"
   ]
  },
  {
   "cell_type": "code",
   "execution_count": 91,
   "id": "6ba0626f",
   "metadata": {},
   "outputs": [
    {
     "data": {
      "text/plain": [
       "{'Artifact': 'No',\n",
       " 'Lifespan': 'Human',\n",
       " 'Origin': 'Accidental/Scientific',\n",
       " 'Age': 37}"
      ]
     },
     "execution_count": 91,
     "metadata": {},
     "output_type": "execute_result"
    }
   ],
   "source": [
    "Origin = roll_origin()\n",
    "Origin"
   ]
  },
  {
   "cell_type": "code",
   "execution_count": 92,
   "id": "60166e19",
   "metadata": {},
   "outputs": [],
   "source": [
    "df = pd.read_csv('powers.csv')"
   ]
  },
  {
   "cell_type": "markdown",
   "id": "0102e637",
   "metadata": {},
   "source": [
    "## Roll Powers"
   ]
  },
  {
   "cell_type": "markdown",
   "id": "372a216e",
   "metadata": {},
   "source": [
    "### Number of Powers"
   ]
  },
  {
   "cell_type": "code",
   "execution_count": 105,
   "id": "d37a36ff",
   "metadata": {},
   "outputs": [
    {
     "data": {
      "text/plain": [
       "{'Number': 2}"
      ]
     },
     "execution_count": 105,
     "metadata": {},
     "output_type": "execute_result"
    }
   ],
   "source": [
    "Powers_roll = df['Powers'].sample()\n",
    "Powers = {}\n",
    "Powers['Number'] = Powers_roll.values[0]\n",
    "\n",
    "if Statistics['Luck'] > 0:\n",
    "    if Statistics['Luck'] == 10:\n",
    "        Powers = Powers + 1\n",
    "        roll = np.random.randint(1,100)\n",
    "        if roll <= 25:\n",
    "            Powers = Powers + 1\n",
    "    elif Statistics['Luck'] <= 9 and Statistics['Luck'] >= 7:\n",
    "        roll = np.random.randint(1,100)\n",
    "        if roll <= 75:\n",
    "            Powers = Powers + 1\n",
    "    elif Statistics['Luck'] <= 6 and Statistics['Luck'] >= 4:\n",
    "        roll = np.random.randint(1,100)\n",
    "        if roll <= 50:\n",
    "            Powers = Powers + 1\n",
    "    else:\n",
    "        roll = np.random.randint(1,100)\n",
    "        if roll <= 25:\n",
    "            Powers = Powers + 1\n",
    "    \n",
    "Powers    "
   ]
  },
  {
   "cell_type": "code",
   "execution_count": 94,
   "id": "6528c4a2",
   "metadata": {},
   "outputs": [
    {
     "name": "stdout",
     "output_type": "stream",
     "text": [
      "Darkness Generation\n",
      "Mutation\n"
     ]
    }
   ],
   "source": [
    "Powers['List'] = []\n",
    "for power in range(Powers['Number']):\n",
    "    Power_roll = df[Origin['Origin']].sample().values[0]\n",
    "    print(Power_roll)\n",
    "    Powers['List'].append(Power_roll)\n",
    "    \n",
    "    "
   ]
  },
  {
   "cell_type": "code",
   "execution_count": 95,
   "id": "99c7824e",
   "metadata": {},
   "outputs": [
    {
     "data": {
      "text/plain": [
       "{'Number': 2, 'List': ['Darkness Generation', 'Mutation']}"
      ]
     },
     "execution_count": 95,
     "metadata": {},
     "output_type": "execute_result"
    }
   ],
   "source": [
    "Powers"
   ]
  },
  {
   "cell_type": "code",
   "execution_count": 96,
   "id": "48de7f95",
   "metadata": {},
   "outputs": [],
   "source": [
    "#none"
   ]
  },
  {
   "cell_type": "code",
   "execution_count": 97,
   "id": "22603439",
   "metadata": {},
   "outputs": [
    {
     "data": {
      "text/plain": [
       "{'Strength': 18,\n",
       " 'Agility': 2,\n",
       " 'Charisma': 13,\n",
       " 'Intelligence': 14,\n",
       " 'Stamina': 17,\n",
       " 'PublicStanding': 11,\n",
       " 'Ego': 10,\n",
       " 'Luck': 0}"
      ]
     },
     "execution_count": 97,
     "metadata": {},
     "output_type": "execute_result"
    }
   ],
   "source": [
    "Statistics"
   ]
  },
  {
   "cell_type": "code",
   "execution_count": 98,
   "id": "63977bea",
   "metadata": {},
   "outputs": [
    {
     "data": {
      "text/plain": [
       "{'Number': 2, 'List': ['Darkness Generation', 'Mutation']}"
      ]
     },
     "execution_count": 98,
     "metadata": {},
     "output_type": "execute_result"
    }
   ],
   "source": [
    "Powers"
   ]
  },
  {
   "cell_type": "code",
   "execution_count": 99,
   "id": "52d6a9ac",
   "metadata": {},
   "outputs": [
    {
     "data": {
      "text/plain": [
       "{'Statistics': {'Strength': 18,\n",
       "  'Agility': 2,\n",
       "  'Charisma': 13,\n",
       "  'Intelligence': 14,\n",
       "  'Stamina': 17,\n",
       "  'PublicStanding': 11,\n",
       "  'Ego': 10,\n",
       "  'Luck': 0},\n",
       " 'Origin': {'Artifact': 'No',\n",
       "  'Lifespan': 'Human',\n",
       "  'Origin': 'Accidental/Scientific',\n",
       "  'Age': 37},\n",
       " 'Powers': {'Number': 2, 'List': ['Darkness Generation', 'Mutation']},\n",
       " 'Strength_Effects': {},\n",
       " 'Agility_Effects': {},\n",
       " 'Charisma_Effects': {},\n",
       " 'Intelligence_Effects': {},\n",
       " 'Stamina_Effects': {},\n",
       " 'Public Standing_Effects': {},\n",
       " 'Ego_Effects': {},\n",
       " 'Luck_Effects': {},\n",
       " 'PublicStanding_Effects': {}}"
      ]
     },
     "execution_count": 99,
     "metadata": {},
     "output_type": "execute_result"
    }
   ],
   "source": [
    "Character['Statistics'] = Statistics\n",
    "Character['Origin'] = Origin\n",
    "Character['Powers'] = Powers\n",
    "\n",
    "for key in Character['Statistics'].keys():\n",
    "    Character[key + '_Effects'] = {}\n",
    "Character"
   ]
  },
  {
   "cell_type": "code",
   "execution_count": 100,
   "id": "7272abea",
   "metadata": {},
   "outputs": [],
   "source": [
    "dfc = pd.read_csv('characteristics.csv', low_memory=False)"
   ]
  },
  {
   "cell_type": "code",
   "execution_count": 102,
   "id": "d011b219",
   "metadata": {},
   "outputs": [
    {
     "data": {
      "text/plain": [
       "{'Statistics': {'Strength': 18,\n",
       "  'Agility': 2,\n",
       "  'Charisma': 13,\n",
       "  'Intelligence': 14,\n",
       "  'Stamina': 17,\n",
       "  'PublicStanding': 11,\n",
       "  'Ego': 10,\n",
       "  'Luck': 0},\n",
       " 'Origin': {'Artifact': 'No',\n",
       "  'Lifespan': 'Human',\n",
       "  'Origin': 'Accidental/Scientific',\n",
       "  'Age': 37},\n",
       " 'Powers': {'Number': 2, 'List': ['Darkness Generation', 'Mutation']},\n",
       " 'Strength_Effects': {'Description': 'Strength of two men',\n",
       "  'HT': '1',\n",
       "  'DD': 3},\n",
       " 'Agility_Effects': {'Description': 'Snail',\n",
       "  'Move': 40,\n",
       "  'Accuracy': -20,\n",
       "  'HT': -1,\n",
       "  'DD': -1},\n",
       " 'Charisma_Effects': {'ReactionHero': -5, 'ReactionVillain': 5},\n",
       " 'Intelligence_Effects': {'Accuracy': 0,\n",
       "  'HT': 1,\n",
       "  'DD': 0,\n",
       "  'DetectEntrances': 17,\n",
       "  'DetectTraps': 16},\n",
       " 'Stamina_Effects': {},\n",
       " 'Public Standing_Effects': {},\n",
       " 'Ego_Effects': {'Description': 'Average SB',\n",
       "  'CompulsoryRetreat': 10,\n",
       "  'WillingRetreat': 40,\n",
       "  'HP': 5},\n",
       " 'Luck_Effects': {},\n",
       " 'PublicStanding_Effects': {'ReactionDM': 0}}"
      ]
     },
     "execution_count": 102,
     "metadata": {},
     "output_type": "execute_result"
    }
   ],
   "source": [
    "stat = 'Strength'\n",
    "Character[stat + '_Effects']['Description'] = dfc[stat].iloc[Character['Statistics'][stat]]\n",
    "Character[stat + '_Effects']['HT'] = dfc[stat + '_HT'].iloc[Character['Statistics'][stat]]\n",
    "Character[stat + '_Effects']['DD'] = dfc[stat + '_DD'].iloc[Character['Statistics'][stat]]\n",
    "\n",
    "if 'd' in Character[stat + '_Effects']['HT']:\n",
    "    if '+' not in Character[stat + '_Effects']['HT']:\n",
    "        roll_list = Character[stat + '_Effects']['HT'].split('d')\n",
    "        Character[stat + '_Effects']['HT'] = roll_effects( int(roll_list[0]), int(roll_list[1]))\n",
    "    else:\n",
    "        roll_list_plus = Character[stat + '_Effects']['HT'].split('+')\n",
    "        roll_list = roll_list_plus[0].split('d')\n",
    "        Character[stat + '_Effects']['HT'] = roll_effects( int(roll_list[0]), int(roll_list[1])) + int(roll_list_plus[1])\n",
    "if 'd' in Character[stat + '_Effects']['DD']:\n",
    "    if '+' not in Character[stat + '_Effects']['DD']:\n",
    "        roll_list = Character[stat + '_Effects']['DD'].split('d')\n",
    "        Character[stat + '_Effects']['DD'] = roll_effects( int(roll_list[0]), int(roll_list[1]))\n",
    "    else:\n",
    "        roll_list_plus = Character[stat + '_Effects']['DD'].split('+')\n",
    "        roll_list = roll_list_plus[0].split('d')\n",
    "        Character[stat + '_Effects']['DD'] = roll_effects( int(roll_list[0]), int(roll_list[1])) + int(roll_list_plus[1])\n",
    "\n",
    "stat = 'Agility'\n",
    "Character[stat + '_Effects']['Description'] = dfc[stat].iloc[Character['Statistics'][stat]]\n",
    "Character[stat + '_Effects']['Move'] = dfc[stat + '_Move'].iloc[Character['Statistics'][stat]]\n",
    "Character[stat + '_Effects']['Accuracy'] = dfc[stat + '_Accuracy'].iloc[Character['Statistics'][stat]]\n",
    "Character[stat + '_Effects']['HT'] = dfc[stat + '_HT'].iloc[Character['Statistics'][stat]]\n",
    "Character[stat + '_Effects']['DD'] = dfc[stat + '_DD'].iloc[Character['Statistics'][stat]]\n",
    "\n",
    "stat = 'Charisma'\n",
    "Character[stat + '_Effects']['ReactionHero'] = dfc[stat + '_ReactionHero'].iloc[Character['Statistics'][stat]]\n",
    "Character[stat + '_Effects']['ReactionVillain'] = dfc[stat + '_ReactionVillain'].iloc[Character['Statistics'][stat]]\n",
    "\n",
    "stat = 'Intelligence'\n",
    "Character[stat + '_Effects']['Accuracy'] = dfc[stat + '_Accuracy'].iloc[Character['Statistics'][stat]]\n",
    "Character[stat + '_Effects']['HT'] = dfc[stat + '_HT'].iloc[Character['Statistics'][stat]]\n",
    "Character[stat + '_Effects']['DD'] = dfc[stat + '_DD'].iloc[Character['Statistics'][stat]]\n",
    "Character[stat + '_Effects']['DetectEntrances'] = dfc[stat + '_DetectEntrances'].iloc[Character['Statistics'][stat]]\n",
    "Character[stat + '_Effects']['DetectTraps'] = dfc[stat + '_DetectTraps'].iloc[Character['Statistics'][stat]]\n",
    "\n",
    "if 'd' in Character[stat + '_Effects']['DetectEntrances']:\n",
    "    roll_list = Character[stat + '_Effects']['DetectEntrances'].split('d')\n",
    "    Character[stat + '_Effects']['DetectEntrances'] = roll_effects( int(roll_list[0]), int(roll_list[1]))\n",
    "\n",
    "if 'd' in Character[stat + '_Effects']['DetectTraps']:\n",
    "    roll_list = Character[stat + '_Effects']['DetectTraps'].split('d')\n",
    "    Character[stat + '_Effects']['DetectTraps'] = roll_effects( int(roll_list[0]), int(roll_list[1]))\n",
    "    \n",
    "\n",
    "stat = 'Ego'\n",
    "Character[stat + '_Effects']['Description'] = dfc[stat].iloc[Character['Statistics'][stat]]\n",
    "Character[stat + '_Effects']['CompulsoryRetreat'] = dfc[stat + '_CompulsoryRetreat'].iloc[Character['Statistics'][stat]]\n",
    "Character[stat + '_Effects']['WillingRetreat'] = dfc[stat + '_WillingRetreat'].iloc[Character['Statistics'][stat]]\n",
    "Character[stat + '_Effects']['HP'] = dfc[stat + '_HP'].iloc[Character['Statistics'][stat]]\n",
    "\n",
    "stat = 'PublicStanding'\n",
    "Character[stat + '_Effects']['ReactionDM'] = dfc[stat + '_ReactionDM'].iloc[Character['Statistics'][stat]]\n",
    "\n",
    "    \n",
    "Character"
   ]
  },
  {
   "cell_type": "code",
   "execution_count": 103,
   "id": "69b7c79a",
   "metadata": {},
   "outputs": [
    {
     "data": {
      "text/plain": [
       "Characteristic                   int64\n",
       "Strength                        object\n",
       "Strength_HT                     object\n",
       "Strength_DD                     object\n",
       "Agility                         object\n",
       "Agility_Move                     int64\n",
       "Agility_Accuracy                 int64\n",
       "Agility_HT                       int64\n",
       "Agility_DD                       int64\n",
       "Charisma                        object\n",
       "Charisma_ReactionHero            int64\n",
       "Charisma_ReactionVillain         int64\n",
       "Intelligence                    object\n",
       "Intelligence_HT                  int64\n",
       "Intelligence_DD                  int64\n",
       "Intelligence_Accuracy            int64\n",
       "Intelligence_DetectEntrances    object\n",
       "Intelligence_DetectTraps        object\n",
       "Ego                             object\n",
       "Ego_CompulsoryRetreat            int64\n",
       "Ego_WillingRetreat               int64\n",
       "Ego_HP                           int64\n",
       "PublicStanding_ReactionDM        int64\n",
       "dtype: object"
      ]
     },
     "execution_count": 103,
     "metadata": {},
     "output_type": "execute_result"
    }
   ],
   "source": [
    "#del Character['Intelligence_Effects']['Traps']\n",
    "dfc.dtypes"
   ]
  },
  {
   "cell_type": "code",
   "execution_count": null,
   "id": "e2e01cfc",
   "metadata": {},
   "outputs": [],
   "source": []
  }
 ],
 "metadata": {
  "kernelspec": {
   "display_name": "Python [conda env:pangeo4]",
   "language": "python",
   "name": "conda-env-pangeo4-py"
  },
  "language_info": {
   "codemirror_mode": {
    "name": "ipython",
    "version": 3
   },
   "file_extension": ".py",
   "mimetype": "text/x-python",
   "name": "python",
   "nbconvert_exporter": "python",
   "pygments_lexer": "ipython3",
   "version": "3.8.12"
  }
 },
 "nbformat": 4,
 "nbformat_minor": 5
}
