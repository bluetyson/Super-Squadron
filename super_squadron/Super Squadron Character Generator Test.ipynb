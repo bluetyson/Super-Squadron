{
 "cells": [
  {
   "cell_type": "code",
   "execution_count": 1,
   "id": "3662b605",
   "metadata": {},
   "outputs": [],
   "source": [
    "import pandas as pd\n",
    "import numpy as np\n",
    "import random\n",
    "import time\n",
    "import datetime\n",
    "import copy\n",
    "import json"
   ]
  },
  {
   "cell_type": "code",
   "execution_count": 5,
   "id": "b9377b2c",
   "metadata": {},
   "outputs": [],
   "source": [
    "def roll_statistic():\n",
    "    statistic = np.random.randint(1,20)\n",
    "    return statistic"
   ]
  },
  {
   "cell_type": "code",
   "execution_count": 3,
   "id": "8b5992e5",
   "metadata": {},
   "outputs": [],
   "source": [
    "Statistics = {\"Strength\":10,\"Agility\":10,\"Charisma\":10,\"Intelligence\":10,\"Stamina\":10,\n",
    "              \"Public Standing\":11,\"Ego\":11,\"Luck\":0}\n",
    "Statistics_Abv = ['ST','AG','CH','IQ','SA','PS','EG','LK']"
   ]
  },
  {
   "cell_type": "markdown",
   "id": "934cc625",
   "metadata": {},
   "source": [
    "## Roll Main Statistics"
   ]
  },
  {
   "cell_type": "markdown",
   "id": "febedbd4",
   "metadata": {},
   "source": [
    "Can reroll if main stats are not greater than 60"
   ]
  },
  {
   "cell_type": "code",
   "execution_count": 10,
   "id": "b07880a6",
   "metadata": {},
   "outputs": [
    {
     "name": "stdout",
     "output_type": "stream",
     "text": [
      "Strength 14\n",
      "Agility 11\n",
      "Charisma 10\n",
      "Intelligence 18\n",
      "Stamina 10\n",
      "Total: 63\n"
     ]
    }
   ],
   "source": [
    "stats_total = 0\n",
    "while stats_total <= 60:\n",
    "    for index, key in enumerate(Statistics.keys()):\n",
    "        if index < 5:\n",
    "            Statistics[key] = roll_statistic()\n",
    "            stats_total = stats_total + Statistics[key]\n",
    "            print(key, Statistics[key])\n",
    "    print(\"Total:\", stats_total)"
   ]
  },
  {
   "cell_type": "code",
   "execution_count": null,
   "id": "10d929cf",
   "metadata": {},
   "outputs": [],
   "source": [
    "Roll Other"
   ]
  }
 ],
 "metadata": {
  "kernelspec": {
   "display_name": "Python [conda env:pangeo4]",
   "language": "python",
   "name": "conda-env-pangeo4-py"
  },
  "language_info": {
   "codemirror_mode": {
    "name": "ipython",
    "version": 3
   },
   "file_extension": ".py",
   "mimetype": "text/x-python",
   "name": "python",
   "nbconvert_exporter": "python",
   "pygments_lexer": "ipython3",
   "version": "3.8.12"
  }
 },
 "nbformat": 4,
 "nbformat_minor": 5
}
