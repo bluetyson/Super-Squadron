{
 "cells": [
  {
   "cell_type": "code",
   "execution_count": 1,
   "id": "f1763870",
   "metadata": {},
   "outputs": [],
   "source": [
    "import pandas as pd\n",
    "import numpy as np\n",
    "import random\n",
    "import time\n",
    "import datetime\n",
    "import copy\n",
    "import json\n",
    "import math\n"
   ]
  },
  {
   "cell_type": "code",
   "execution_count": 36,
   "id": "bf4eed1c",
   "metadata": {},
   "outputs": [],
   "source": [
    "Character = {}\n",
    "Character['Statistics'] = {}\n",
    "Character['Origin'] = {}\n",
    "Character['Powers'] = {}"
   ]
  },
  {
   "cell_type": "code",
   "execution_count": 58,
   "id": "8922d9c6",
   "metadata": {},
   "outputs": [],
   "source": [
    "def roll_statistic():\n",
    "    statistic = np.random.randint(1,20)\n",
    "    return statistic\n",
    "\n",
    "def roll_luck():\n",
    "    luck = 0\n",
    "    roll = np.random.randint(1,100)\n",
    "    if roll < 11:\n",
    "        luck = 11 - roll\n",
    "    return luck\n",
    "\n",
    "def roll_origin():\n",
    "    origin_dict = {}\n",
    "    roll = np.random.randint(1,10)\n",
    "    origin_dict['Artifact'] = \"No\"\n",
    "    origin_dict['Lifespan'] = \"Human\"\n",
    "    if roll <= 3:\n",
    "        origin = \"Mutant\"\n",
    "        age = np.random.randint(1,12) + 15\n",
    "    elif roll == 4:\n",
    "        origin = \"Self Developed\"\n",
    "        age = np.random.randint(1,12) + 25\n",
    "    elif roll == 5:\n",
    "        origin = \"Supernatural\"\n",
    "        age = np.random.randint(1,10) + 20\n",
    "    elif roll == 6:\n",
    "        origin = \"Designed or Sponsored\"\n",
    "        age = np.random.randint(1,12) + 25\n",
    "    elif roll == 10:\n",
    "        origin = \"Alien\"\n",
    "        age = np.random.randint(1,10) * np.random.randint(1,6)\n",
    "        lifespan = np.random.randint(1,20) * np.random.randint(1,20)\n",
    "    else:\n",
    "        origin = \"Accidental/Scientific\"\n",
    "        age = np.random.randint(1,8) * np.random.randint(1,6) + 25\n",
    "        artifact_roll = np.random.randint(1,100)\n",
    "        if artifact_roll <= 5:\n",
    "            origin_dict['Artifact'] = \"Yes\"\n",
    "        \n",
    "    origin_dict['Origin'] = origin\n",
    "    origin_dict['Age'] = age\n",
    "    return origin_dict\n",
    "\n",
    "def roll_effects(number, dice_sides):\n",
    "    roll_total = 0\n",
    "    for roll in range(number):\n",
    "        dice_roll = np.random.randint(1,dice_sides)\n",
    "        roll_total = roll_total + dice_roll\n",
    "        \n",
    "    return roll_total"
   ]
  },
  {
   "cell_type": "code",
   "execution_count": 87,
   "id": "7997fd89",
   "metadata": {},
   "outputs": [],
   "source": [
    "Statistics = {\"Strength\":10,\"Agility\":10,\"Charisma\":10,\"Intelligence\":10,\"Stamina\":10,\n",
    "              \"PublicStanding\":11,\"Ego\":11,\"Luck\":0}\n",
    "Statistics_Abv = ['ST','AG','CH','IQ','SA','PS','EG','LK']"
   ]
  },
  {
   "cell_type": "markdown",
   "id": "bf00fff9",
   "metadata": {},
   "source": [
    "## Roll Main Statistics"
   ]
  },
  {
   "cell_type": "markdown",
   "id": "2ec4bd93",
   "metadata": {},
   "source": [
    "Can reroll if main stats are not greater than 60"
   ]
  },
  {
   "cell_type": "code",
   "execution_count": 89,
   "id": "b2a3ccdf",
   "metadata": {},
   "outputs": [
    {
     "name": "stdout",
     "output_type": "stream",
     "text": [
      "Strength 6\n",
      "Agility 7\n",
      "Charisma 19\n",
      "Intelligence 9\n",
      "Stamina 8\n",
      "Total: 49\n",
      "Strength 11\n",
      "Agility 15\n",
      "Charisma 14\n",
      "Intelligence 6\n",
      "Stamina 4\n",
      "Total: 50\n",
      "Strength 1\n",
      "Agility 19\n",
      "Charisma 14\n",
      "Intelligence 8\n",
      "Stamina 13\n",
      "Total: 55\n",
      "Strength 13\n",
      "Agility 13\n",
      "Charisma 12\n",
      "Intelligence 10\n",
      "Stamina 2\n",
      "Total: 50\n",
      "Strength 18\n",
      "Agility 2\n",
      "Charisma 13\n",
      "Intelligence 14\n",
      "Stamina 17\n",
      "Total: 64\n"
     ]
    }
   ],
   "source": [
    "stats_total = 0\n",
    "while stats_total <= 60:\n",
    "    stats_total = 0\n",
    "    for index, key in enumerate(Statistics.keys()):\n",
    "        if index < 5:\n",
    "            Statistics[key] = roll_statistic()\n",
    "            stats_total = stats_total + Statistics[key]\n",
    "            print(key, Statistics[key])\n",
    "    print(\"Total:\", stats_total)"
   ]
  },
  {
   "cell_type": "markdown",
   "id": "843ab68c",
   "metadata": {},
   "source": [
    "## Roll Other Statistics"
   ]
  },
  {
   "cell_type": "code",
   "execution_count": 90,
   "id": "fa547cb0",
   "metadata": {},
   "outputs": [
    {
     "data": {
      "text/plain": [
       "{'Strength': 18,\n",
       " 'Agility': 2,\n",
       " 'Charisma': 13,\n",
       " 'Intelligence': 14,\n",
       " 'Stamina': 17,\n",
       " 'PublicStanding': 11,\n",
       " 'Ego': 10,\n",
       " 'Luck': 0}"
      ]
     },
     "execution_count": 90,
     "metadata": {},
     "output_type": "execute_result"
    }
   ],
   "source": [
    "Statistics['Ego'] = roll_statistic()\n",
    "Statistics['Luck'] = roll_luck()\n",
    "\n",
    "Statistics"
   ]
  },
  {
   "cell_type": "markdown",
   "id": "30b09deb",
   "metadata": {},
   "source": [
    "## Roll Origin"
   ]
  },
  {
   "cell_type": "code",
   "execution_count": 91,
   "id": "db3b965d",
   "metadata": {},
   "outputs": [
    {
     "data": {
      "text/plain": [
       "{'Artifact': 'No',\n",
       " 'Lifespan': 'Human',\n",
       " 'Origin': 'Accidental/Scientific',\n",
       " 'Age': 37}"
      ]
     },
     "execution_count": 91,
     "metadata": {},
     "output_type": "execute_result"
    }
   ],
   "source": [
    "Origin = roll_origin()\n",
    "Origin"
   ]
  },
  {
   "cell_type": "code",
   "execution_count": 92,
   "id": "a0cb1c27",
   "metadata": {},
   "outputs": [],
   "source": [
    "df = pd.read_csv('powers.csv')"
   ]
  },
  {
   "cell_type": "markdown",
   "id": "bb5891db",
   "metadata": {},
   "source": [
    "## Roll Powers"
   ]
  },
  {
   "cell_type": "markdown",
   "id": "e84f92da",
   "metadata": {},
   "source": [
    "### Number of Powers"
   ]
  },
  {
   "cell_type": "code",
   "execution_count": 105,
   "id": "b65bb75f",
   "metadata": {},
   "outputs": [
    {
     "data": {
      "text/plain": [
       "{'Number': 2}"
      ]
     },
     "execution_count": 105,
     "metadata": {},
     "output_type": "execute_result"
    }
   ],
   "source": [
    "Powers_roll = df['Powers'].sample()\n",
    "Powers = {}\n",
    "Powers['Number'] = Powers_roll.values[0]\n",
    "\n",
    "if Statistics['Luck'] > 0:\n",
    "    if Statistics['Luck'] == 10:\n",
    "        Powers = Powers + 1\n",
    "        roll = np.random.randint(1,100)\n",
    "        if roll <= 25:\n",
    "            Powers = Powers + 1\n",
    "    elif Statistics['Luck'] <= 9 and Statistics['Luck'] >= 7:\n",
    "        roll = np.random.randint(1,100)\n",
    "        if roll <= 75:\n",
    "            Powers = Powers + 1\n",
    "    elif Statistics['Luck'] <= 6 and Statistics['Luck'] >= 4:\n",
    "        roll = np.random.randint(1,100)\n",
    "        if roll <= 50:\n",
    "            Powers = Powers + 1\n",
    "    else:\n",
    "        roll = np.random.randint(1,100)\n",
    "        if roll <= 25:\n",
    "            Powers = Powers + 1\n",
    "    \n",
    "Powers    "
   ]
  },
  {
   "cell_type": "code",
   "execution_count": 94,
   "id": "f1fcbd56",
   "metadata": {},
   "outputs": [
    {
     "name": "stdout",
     "output_type": "stream",
     "text": [
      "Darkness Generation\n",
      "Mutation\n"
     ]
    }
   ],
   "source": [
    "Powers['List'] = []\n",
    "for power in range(Powers['Number']):\n",
    "    Power_roll = df[Origin['Origin']].sample().values[0]\n",
    "    print(Power_roll)\n",
    "    Powers['List'].append(Power_roll)\n",
    "    \n",
    "    "
   ]
  },
  {
   "cell_type": "code",
   "execution_count": 95,
   "id": "7aa4fb84",
   "metadata": {},
   "outputs": [
    {
     "data": {
      "text/plain": [
       "{'Number': 2, 'List': ['Darkness Generation', 'Mutation']}"
      ]
     },
     "execution_count": 95,
     "metadata": {},
     "output_type": "execute_result"
    }
   ],
   "source": [
    "Powers"
   ]
  },
  {
   "cell_type": "code",
   "execution_count": 96,
   "id": "43dfa366",
   "metadata": {},
   "outputs": [],
   "source": [
    "#none"
   ]
  },
  {
   "cell_type": "code",
   "execution_count": 97,
   "id": "8305e967",
   "metadata": {},
   "outputs": [
    {
     "data": {
      "text/plain": [
       "{'Strength': 18,\n",
       " 'Agility': 2,\n",
       " 'Charisma': 13,\n",
       " 'Intelligence': 14,\n",
       " 'Stamina': 17,\n",
       " 'PublicStanding': 11,\n",
       " 'Ego': 10,\n",
       " 'Luck': 0}"
      ]
     },
     "execution_count": 97,
     "metadata": {},
     "output_type": "execute_result"
    }
   ],
   "source": [
    "Statistics"
   ]
  },
  {
   "cell_type": "code",
   "execution_count": 98,
   "id": "4bb6c1f5",
   "metadata": {},
   "outputs": [
    {
     "data": {
      "text/plain": [
       "{'Number': 2, 'List': ['Darkness Generation', 'Mutation']}"
      ]
     },
     "execution_count": 98,
     "metadata": {},
     "output_type": "execute_result"
    }
   ],
   "source": [
    "Powers"
   ]
  },
  {
   "cell_type": "code",
   "execution_count": 99,
   "id": "3fd5ba3b",
   "metadata": {},
   "outputs": [
    {
     "data": {
      "text/plain": [
       "{'Statistics': {'Strength': 18,\n",
       "  'Agility': 2,\n",
       "  'Charisma': 13,\n",
       "  'Intelligence': 14,\n",
       "  'Stamina': 17,\n",
       "  'PublicStanding': 11,\n",
       "  'Ego': 10,\n",
       "  'Luck': 0},\n",
       " 'Origin': {'Artifact': 'No',\n",
       "  'Lifespan': 'Human',\n",
       "  'Origin': 'Accidental/Scientific',\n",
       "  'Age': 37},\n",
       " 'Powers': {'Number': 2, 'List': ['Darkness Generation', 'Mutation']},\n",
       " 'Strength_Effects': {},\n",
       " 'Agility_Effects': {},\n",
       " 'Charisma_Effects': {},\n",
       " 'Intelligence_Effects': {},\n",
       " 'Stamina_Effects': {},\n",
       " 'Public Standing_Effects': {},\n",
       " 'Ego_Effects': {},\n",
       " 'Luck_Effects': {},\n",
       " 'PublicStanding_Effects': {}}"
      ]
     },
     "execution_count": 99,
     "metadata": {},
     "output_type": "execute_result"
    }
   ],
   "source": [
    "Character['Statistics'] = Statistics\n",
    "Character['Origin'] = Origin\n",
    "Character['Powers'] = Powers\n",
    "\n",
    "for key in Character['Statistics'].keys():\n",
    "    Character[key + '_Effects'] = {}\n",
    "Character"
   ]
  },
  {
   "cell_type": "code",
   "execution_count": 132,
   "id": "d05fe147",
   "metadata": {},
   "outputs": [],
   "source": [
    "dfc = pd.read_csv('characteristics.csv', low_memory=False)"
   ]
  },
  {
   "cell_type": "markdown",
   "id": "9163d692",
   "metadata": {},
   "source": [
    "## Characteristic Effects\n",
    "### note that this doesn't take any powers into account currently"
   ]
  },
  {
   "cell_type": "code",
   "execution_count": 102,
   "id": "f61ce033",
   "metadata": {},
   "outputs": [
    {
     "data": {
      "text/plain": [
       "{'Statistics': {'Strength': 18,\n",
       "  'Agility': 2,\n",
       "  'Charisma': 13,\n",
       "  'Intelligence': 14,\n",
       "  'Stamina': 17,\n",
       "  'PublicStanding': 11,\n",
       "  'Ego': 10,\n",
       "  'Luck': 0},\n",
       " 'Origin': {'Artifact': 'No',\n",
       "  'Lifespan': 'Human',\n",
       "  'Origin': 'Accidental/Scientific',\n",
       "  'Age': 37},\n",
       " 'Powers': {'Number': 2, 'List': ['Darkness Generation', 'Mutation']},\n",
       " 'Strength_Effects': {'Description': 'Strength of two men',\n",
       "  'HT': '1',\n",
       "  'DD': 3},\n",
       " 'Agility_Effects': {'Description': 'Snail',\n",
       "  'Move': 40,\n",
       "  'Accuracy': -20,\n",
       "  'HT': -1,\n",
       "  'DD': -1},\n",
       " 'Charisma_Effects': {'ReactionHero': -5, 'ReactionVillain': 5},\n",
       " 'Intelligence_Effects': {'Accuracy': 0,\n",
       "  'HT': 1,\n",
       "  'DD': 0,\n",
       "  'DetectEntrances': 17,\n",
       "  'DetectTraps': 16},\n",
       " 'Stamina_Effects': {},\n",
       " 'Public Standing_Effects': {},\n",
       " 'Ego_Effects': {'Description': 'Average SB',\n",
       "  'CompulsoryRetreat': 10,\n",
       "  'WillingRetreat': 40,\n",
       "  'HP': 5},\n",
       " 'Luck_Effects': {},\n",
       " 'PublicStanding_Effects': {'ReactionDM': 0}}"
      ]
     },
     "execution_count": 102,
     "metadata": {},
     "output_type": "execute_result"
    }
   ],
   "source": [
    "stat = 'Strength'\n",
    "Character[stat + '_Effects']['Description'] = dfc[stat].iloc[Character['Statistics'][stat]]\n",
    "Character[stat + '_Effects']['HT'] = dfc[stat + '_HT'].iloc[Character['Statistics'][stat]]\n",
    "Character[stat + '_Effects']['DD'] = dfc[stat + '_DD'].iloc[Character['Statistics'][stat]]\n",
    "\n",
    "if 'd' in Character[stat + '_Effects']['HT']:\n",
    "    if '+' not in Character[stat + '_Effects']['HT']:\n",
    "        roll_list = Character[stat + '_Effects']['HT'].split('d')\n",
    "        Character[stat + '_Effects']['HT'] = roll_effects( int(roll_list[0]), int(roll_list[1]))\n",
    "    else:\n",
    "        roll_list_plus = Character[stat + '_Effects']['HT'].split('+')\n",
    "        roll_list = roll_list_plus[0].split('d')\n",
    "        Character[stat + '_Effects']['HT'] = roll_effects( int(roll_list[0]), int(roll_list[1])) + int(roll_list_plus[1])\n",
    "if 'd' in Character[stat + '_Effects']['DD']:\n",
    "    if '+' not in Character[stat + '_Effects']['DD']:\n",
    "        roll_list = Character[stat + '_Effects']['DD'].split('d')\n",
    "        Character[stat + '_Effects']['DD'] = roll_effects( int(roll_list[0]), int(roll_list[1]))\n",
    "    else:\n",
    "        roll_list_plus = Character[stat + '_Effects']['DD'].split('+')\n",
    "        roll_list = roll_list_plus[0].split('d')\n",
    "        Character[stat + '_Effects']['DD'] = roll_effects( int(roll_list[0]), int(roll_list[1])) + int(roll_list_plus[1])\n",
    "\n",
    "stat = 'Agility'\n",
    "Character[stat + '_Effects']['Description'] = dfc[stat].iloc[Character['Statistics'][stat]]\n",
    "Character[stat + '_Effects']['Move'] = dfc[stat + '_Move'].iloc[Character['Statistics'][stat]]\n",
    "Character[stat + '_Effects']['Accuracy'] = dfc[stat + '_Accuracy'].iloc[Character['Statistics'][stat]]\n",
    "Character[stat + '_Effects']['HT'] = dfc[stat + '_HT'].iloc[Character['Statistics'][stat]]\n",
    "Character[stat + '_Effects']['DD'] = dfc[stat + '_DD'].iloc[Character['Statistics'][stat]]\n",
    "\n",
    "stat = 'Charisma'\n",
    "Character[stat + '_Effects']['ReactionHero'] = dfc[stat + '_ReactionHero'].iloc[Character['Statistics'][stat]]\n",
    "Character[stat + '_Effects']['ReactionVillain'] = dfc[stat + '_ReactionVillain'].iloc[Character['Statistics'][stat]]\n",
    "\n",
    "stat = 'Intelligence'\n",
    "Character[stat + '_Effects']['Accuracy'] = dfc[stat + '_Accuracy'].iloc[Character['Statistics'][stat]]\n",
    "Character[stat + '_Effects']['HT'] = dfc[stat + '_HT'].iloc[Character['Statistics'][stat]]\n",
    "Character[stat + '_Effects']['DD'] = dfc[stat + '_DD'].iloc[Character['Statistics'][stat]]\n",
    "Character[stat + '_Effects']['DetectEntrances'] = dfc[stat + '_DetectEntrances'].iloc[Character['Statistics'][stat]]\n",
    "Character[stat + '_Effects']['DetectTraps'] = dfc[stat + '_DetectTraps'].iloc[Character['Statistics'][stat]]\n",
    "\n",
    "if 'd' in Character[stat + '_Effects']['DetectEntrances']:\n",
    "    roll_list = Character[stat + '_Effects']['DetectEntrances'].split('d')\n",
    "    Character[stat + '_Effects']['DetectEntrances'] = roll_effects( int(roll_list[0]), int(roll_list[1]))\n",
    "\n",
    "if 'd' in Character[stat + '_Effects']['DetectTraps']:\n",
    "    roll_list = Character[stat + '_Effects']['DetectTraps'].split('d')\n",
    "    Character[stat + '_Effects']['DetectTraps'] = roll_effects( int(roll_list[0]), int(roll_list[1]))\n",
    "    \n",
    "\n",
    "stat = 'Ego'\n",
    "Character[stat + '_Effects']['Description'] = dfc[stat].iloc[Character['Statistics'][stat]]\n",
    "Character[stat + '_Effects']['CompulsoryRetreat'] = dfc[stat + '_CompulsoryRetreat'].iloc[Character['Statistics'][stat]]\n",
    "Character[stat + '_Effects']['WillingRetreat'] = dfc[stat + '_WillingRetreat'].iloc[Character['Statistics'][stat]]\n",
    "Character[stat + '_Effects']['HP'] = dfc[stat + '_HP'].iloc[Character['Statistics'][stat]]\n",
    "\n",
    "stat = 'PublicStanding'\n",
    "Character[stat + '_Effects']['ReactionDM'] = dfc[stat + '_ReactionDM'].iloc[Character['Statistics'][stat]]\n",
    "\n",
    "    \n",
    "Character"
   ]
  },
  {
   "cell_type": "code",
   "execution_count": 107,
   "id": "da677342",
   "metadata": {},
   "outputs": [
    {
     "data": {
      "text/plain": [
       "Characteristic                   int64\n",
       "Strength                        object\n",
       "Strength_HT                     object\n",
       "Strength_DD                     object\n",
       "Agility                         object\n",
       "Agility_Move                     int64\n",
       "Agility_Accuracy                 int64\n",
       "Agility_HT                       int64\n",
       "Agility_DD                       int64\n",
       "Charisma                        object\n",
       "Charisma_ReactionHero            int64\n",
       "Charisma_ReactionVillain         int64\n",
       "Intelligence                    object\n",
       "Intelligence_HT                  int64\n",
       "Intelligence_DD                  int64\n",
       "Intelligence_Accuracy            int64\n",
       "Intelligence_DetectEntrances    object\n",
       "Intelligence_DetectTraps        object\n",
       "Ego                             object\n",
       "Ego_CompulsoryRetreat            int64\n",
       "Ego_WillingRetreat               int64\n",
       "Ego_HP                           int64\n",
       "PublicStanding_ReactionDM        int64\n",
       "dtype: object"
      ]
     },
     "execution_count": 107,
     "metadata": {},
     "output_type": "execute_result"
    }
   ],
   "source": [
    "dfc.dtypes"
   ]
  },
  {
   "cell_type": "markdown",
   "id": "d2585978",
   "metadata": {},
   "source": [
    "## Calculated Statistics"
   ]
  },
  {
   "cell_type": "code",
   "execution_count": 124,
   "id": "e4fa2019",
   "metadata": {},
   "outputs": [
    {
     "data": {
      "text/plain": [
       "19"
      ]
     },
     "execution_count": 124,
     "metadata": {},
     "output_type": "execute_result"
    }
   ],
   "source": [
    "def normal_round(n):\n",
    "    if n - math.floor(n) < 0.5:\n",
    "        return math.floor(n)\n",
    "    return math.ceil(n)\n",
    "\n",
    "HitPoints = int(normal_round(float(Character['Statistics']['Stamina'])/2))\n",
    "HitPoints = HitPoints + np.random.randint(1,10)\n",
    "HitPoints = HitPoints + Character['Statistics']['Luck']\n",
    "HitPoints = HitPoints + int(Character['Strength_Effects']['HT'])\n",
    "HitPoints = HitPoints + int(Character['Agility_Effects']['HT'])\n",
    "HitPoints = HitPoints + int(Character['Intelligence_Effects']['HT'])\n",
    "\n",
    "Character['HitPoints'] = HitPoints\n",
    "Character['HitPoints']"
   ]
  },
  {
   "cell_type": "code",
   "execution_count": 128,
   "id": "2648bfdd",
   "metadata": {},
   "outputs": [
    {
     "data": {
      "text/plain": [
       "48"
      ]
     },
     "execution_count": 128,
     "metadata": {},
     "output_type": "execute_result"
    }
   ],
   "source": [
    "ActionPotential = Character['Statistics']['Strength']\n",
    "ActionPotential = ActionPotential + int(normal_round(float(Character['Statistics']['Intelligence'])/2))\n",
    "ActionPotential = ActionPotential + Character['Statistics']['Stamina']\n",
    "ActionPotential = ActionPotential + int(normal_round(float(Character['Statistics']['Agility'])/2))\n",
    "ActionPotential = ActionPotential + int(normal_round(float(Character['Statistics']['Ego'])/2))\n",
    "ActionPotential = ActionPotential + + Character['Statistics']['Luck']\n",
    "\n",
    "Character['ActionPotential'] = ActionPotential\n",
    "Character['ActionPotential']"
   ]
  },
  {
   "cell_type": "code",
   "execution_count": 130,
   "id": "b6f0c101",
   "metadata": {},
   "outputs": [
    {
     "data": {
      "text/plain": [
       "2"
      ]
     },
     "execution_count": 130,
     "metadata": {},
     "output_type": "execute_result"
    }
   ],
   "source": [
    "DirectDamage = int(Character['Strength_Effects']['DD'])\n",
    "DirectDamage = DirectDamage + int(Character['Agility_Effects']['DD'])\n",
    "DirectDamage = DirectDamage + int(Character['Intelligence_Effects']['DD'])\n",
    "\n",
    "Character['DirectDamage'] = DirectDamage\n",
    "Character['DirectDamage']"
   ]
  },
  {
   "cell_type": "code",
   "execution_count": 147,
   "id": "b6c0df89",
   "metadata": {},
   "outputs": [
    {
     "data": {
      "text/plain": [
       "39    182.5\n",
       "Name: Height, dtype: float64"
      ]
     },
     "execution_count": 147,
     "metadata": {},
     "output_type": "execute_result"
    }
   ],
   "source": [
    "sex_roll = np.random.randint(1,100)\n",
    "if sex_roll <= 50:\n",
    "    Character['Sex'] = 'Female'\n",
    "    height_mod = roll_effects(5,4) * -1\n",
    "else:\n",
    "    Character['Sex'] = 'Male'\n",
    "    height_mod = 0\n",
    "    \n",
    "Height_roll = dfc['Height'].sample()\n",
    "Height_roll"
   ]
  },
  {
   "cell_type": "code",
   "execution_count": 148,
   "id": "32098c98",
   "metadata": {},
   "outputs": [
    {
     "data": {
      "text/plain": [
       "61"
      ]
     },
     "execution_count": 148,
     "metadata": {},
     "output_type": "execute_result"
    }
   ],
   "source": [
    "WeightDM = dfc.iloc[Height_roll.index]['Height_WeightDM'].values[0]\n",
    "if 'd' in WeightDM:\n",
    "    roll_list = WeightDM.split('d')\n",
    "    weight_mod = roll_effects( int(roll_list[0]), int(roll_list[1]))\n",
    "    if Character['Height'] < 190:\n",
    "        weight_mod = weight_mod * -1\n",
    "else:\n",
    "    weight_mod = int(WeightDM)\n",
    "    \n",
    "Weight_roll = dfc['Weight'].sample().values[0]\n",
    "\n",
    "Character['Height'] = Height_roll.values[0] + height_mod\n",
    "\n",
    "Character['Weight'] = int(Weight_roll) + weight_mod\n",
    "Character['Weight']"
   ]
  },
  {
   "cell_type": "code",
   "execution_count": 149,
   "id": "ec978e38",
   "metadata": {},
   "outputs": [
    {
     "data": {
      "text/plain": [
       "{'Statistics': {'Strength': 18,\n",
       "  'Agility': 2,\n",
       "  'Charisma': 13,\n",
       "  'Intelligence': 14,\n",
       "  'Stamina': 17,\n",
       "  'PublicStanding': 11,\n",
       "  'Ego': 10,\n",
       "  'Luck': 0},\n",
       " 'Origin': {'Artifact': 'No',\n",
       "  'Lifespan': 'Human',\n",
       "  'Origin': 'Accidental/Scientific',\n",
       "  'Age': 37},\n",
       " 'Powers': {'Number': 2, 'List': ['Darkness Generation', 'Mutation']},\n",
       " 'Strength_Effects': {'Description': 'Strength of two men',\n",
       "  'HT': '1',\n",
       "  'DD': 3},\n",
       " 'Agility_Effects': {'Description': 'Snail',\n",
       "  'Move': 40,\n",
       "  'Accuracy': -20,\n",
       "  'HT': -1,\n",
       "  'DD': -1},\n",
       " 'Charisma_Effects': {'ReactionHero': -5, 'ReactionVillain': 5},\n",
       " 'Intelligence_Effects': {'Accuracy': 0,\n",
       "  'HT': 1,\n",
       "  'DD': 0,\n",
       "  'DetectEntrances': 17,\n",
       "  'DetectTraps': 16},\n",
       " 'Stamina_Effects': {},\n",
       " 'Public Standing_Effects': {},\n",
       " 'Ego_Effects': {'Description': 'Average SB',\n",
       "  'CompulsoryRetreat': 10,\n",
       "  'WillingRetreat': 40,\n",
       "  'HP': 5},\n",
       " 'Luck_Effects': {},\n",
       " 'PublicStanding_Effects': {'ReactionDM': 0},\n",
       " 'HitPoints': 19,\n",
       " 'ActionPotential': 48,\n",
       " 'DirectDamage': 2,\n",
       " 'Sex': 'Female',\n",
       " 'Weight': 61,\n",
       " 'Height': 169.5}"
      ]
     },
     "execution_count": 149,
     "metadata": {},
     "output_type": "execute_result"
    }
   ],
   "source": [
    "Character"
   ]
  },
  {
   "cell_type": "code",
   "execution_count": null,
   "id": "0ca8d876",
   "metadata": {},
   "outputs": [],
   "source": []
  }
 ],
 "metadata": {
  "kernelspec": {
   "display_name": "Python [conda env:pangeo4]",
   "language": "python",
   "name": "conda-env-pangeo4-py"
  },
  "language_info": {
   "codemirror_mode": {
    "name": "ipython",
    "version": 3
   },
   "file_extension": ".py",
   "mimetype": "text/x-python",
   "name": "python",
   "nbconvert_exporter": "python",
   "pygments_lexer": "ipython3",
   "version": "3.8.12"
  }
 },
 "nbformat": 4,
 "nbformat_minor": 5
}
