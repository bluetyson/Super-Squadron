{
 "cells": [
  {
   "cell_type": "code",
   "execution_count": 1,
   "id": "1c6c39e4",
   "metadata": {},
   "outputs": [],
   "source": [
    "import pandas as pd\n",
    "import numpy as np\n",
    "import random\n",
    "import time\n",
    "import datetime\n",
    "import copy\n",
    "import json"
   ]
  },
  {
   "cell_type": "code",
   "execution_count": 36,
   "id": "0d997f33",
   "metadata": {},
   "outputs": [],
   "source": [
    "Character = {}\n",
    "Character['Statistics'] = {}\n",
    "Character['Origin'] = {}\n",
    "Character['Powers'] = {}"
   ]
  },
  {
   "cell_type": "code",
   "execution_count": 18,
   "id": "c52e61ae",
   "metadata": {},
   "outputs": [],
   "source": [
    "def roll_statistic():\n",
    "    statistic = np.random.randint(1,20)\n",
    "    return statistic\n",
    "\n",
    "def roll_luck():\n",
    "    luck = 0\n",
    "    roll = np.random.randint(1,100)\n",
    "    if roll < 11:\n",
    "        luck = 11 - roll\n",
    "    return luck\n",
    "\n",
    "def roll_origin():\n",
    "    origin_dict = {}\n",
    "    roll = np.random.randint(1,10)\n",
    "    origin_dict['Artifact'] = \"No\"\n",
    "    origin_dict['Lifespan'] = \"Human\"\n",
    "    if roll <= 3:\n",
    "        origin = \"Mutant\"\n",
    "        age = np.random.randint(1,12) + 15\n",
    "    elif roll == 4:\n",
    "        origin = \"Self Developed\"\n",
    "        age = np.random.randint(1,12) + 25\n",
    "    elif roll == 5:\n",
    "        origin = \"Supernatural\"\n",
    "        age = np.random.randint(1,10) + 20\n",
    "    elif roll == 6:\n",
    "        origin = \"Designed or Sponsored\"\n",
    "        age = np.random.randint(1,12) + 25\n",
    "    elif roll == 10:\n",
    "        origin = \"Alien\"\n",
    "        age = np.random.randint(1,10) * np.random.randint(1,6)\n",
    "        lifespan = np.random.randint(1,20) * np.random.randint(1,20)\n",
    "    else:\n",
    "        origin = \"Accidental/Scientific\"\n",
    "        age = np.random.randint(1,8) * np.random.randint(1,6) + 25\n",
    "        artifact_roll = np.random.randint(1,100)\n",
    "        if artifact_roll <= 5:\n",
    "            origin_dict['Artifact'] = \"Yes\"\n",
    "        \n",
    "    origin_dict['Origin'] = origin\n",
    "    origin_dict['Age'] = age\n",
    "    return origin_dict\n"
   ]
  },
  {
   "cell_type": "code",
   "execution_count": 3,
   "id": "cd47f163",
   "metadata": {},
   "outputs": [],
   "source": [
    "Statistics = {\"Strength\":10,\"Agility\":10,\"Charisma\":10,\"Intelligence\":10,\"Stamina\":10,\n",
    "              \"Public Standing\":11,\"Ego\":11,\"Luck\":0}\n",
    "Statistics_Abv = ['ST','AG','CH','IQ','SA','PS','EG','LK']"
   ]
  },
  {
   "cell_type": "markdown",
   "id": "b62461b7",
   "metadata": {},
   "source": [
    "## Roll Main Statistics"
   ]
  },
  {
   "cell_type": "markdown",
   "id": "431eac26",
   "metadata": {},
   "source": [
    "Can reroll if main stats are not greater than 60"
   ]
  },
  {
   "cell_type": "code",
   "execution_count": 10,
   "id": "8ab2a039",
   "metadata": {},
   "outputs": [
    {
     "name": "stdout",
     "output_type": "stream",
     "text": [
      "Strength 14\n",
      "Agility 11\n",
      "Charisma 10\n",
      "Intelligence 18\n",
      "Stamina 10\n",
      "Total: 63\n"
     ]
    }
   ],
   "source": [
    "stats_total = 0\n",
    "while stats_total <= 60:\n",
    "    for index, key in enumerate(Statistics.keys()):\n",
    "        if index < 5:\n",
    "            Statistics[key] = roll_statistic()\n",
    "            stats_total = stats_total + Statistics[key]\n",
    "            print(key, Statistics[key])\n",
    "    print(\"Total:\", stats_total)"
   ]
  },
  {
   "cell_type": "markdown",
   "id": "84ba4996",
   "metadata": {},
   "source": [
    "## Roll Other Statistics"
   ]
  },
  {
   "cell_type": "code",
   "execution_count": 14,
   "id": "11a223ff",
   "metadata": {},
   "outputs": [
    {
     "data": {
      "text/plain": [
       "{'Strength': 14,\n",
       " 'Agility': 11,\n",
       " 'Charisma': 10,\n",
       " 'Intelligence': 18,\n",
       " 'Stamina': 10,\n",
       " 'Public Standing': 11,\n",
       " 'Ego': 6,\n",
       " 'Luck': 0}"
      ]
     },
     "execution_count": 14,
     "metadata": {},
     "output_type": "execute_result"
    }
   ],
   "source": [
    "Statistics['Ego'] = roll_statistic()\n",
    "Statistics['Luck'] = roll_luck()\n",
    "\n",
    "Statistics"
   ]
  },
  {
   "cell_type": "markdown",
   "id": "e650d02e",
   "metadata": {},
   "source": [
    "## Roll Origin"
   ]
  },
  {
   "cell_type": "code",
   "execution_count": 19,
   "id": "5c1d3c3c",
   "metadata": {},
   "outputs": [
    {
     "data": {
      "text/plain": [
       "{'Artifact': 'No', 'Lifespan': 'Human', 'Origin': 'Mutant', 'Age': 16}"
      ]
     },
     "execution_count": 19,
     "metadata": {},
     "output_type": "execute_result"
    }
   ],
   "source": [
    "Origin = roll_origin()\n",
    "Origin"
   ]
  },
  {
   "cell_type": "code",
   "execution_count": 29,
   "id": "dcb32155",
   "metadata": {},
   "outputs": [],
   "source": [
    "df = pd.read_csv('powers.csv')"
   ]
  },
  {
   "cell_type": "markdown",
   "id": "ee6da9da",
   "metadata": {},
   "source": [
    "## Roll Powers"
   ]
  },
  {
   "cell_type": "markdown",
   "id": "59984d19",
   "metadata": {},
   "source": [
    "### Number of Powers"
   ]
  },
  {
   "cell_type": "code",
   "execution_count": 23,
   "id": "d903a40a",
   "metadata": {},
   "outputs": [
    {
     "data": {
      "text/plain": [
       "{'Number': 2}"
      ]
     },
     "execution_count": 23,
     "metadata": {},
     "output_type": "execute_result"
    }
   ],
   "source": [
    "Powers_roll = df['Powers'].sample()\n",
    "Powers = {}\n",
    "Powers['Number'] = Powers_roll.values[0]\n",
    "Powers"
   ]
  },
  {
   "cell_type": "code",
   "execution_count": 30,
   "id": "61bae8bf",
   "metadata": {},
   "outputs": [
    {
     "name": "stdout",
     "output_type": "stream",
     "text": [
      "Immortality\n",
      "Defect\n"
     ]
    }
   ],
   "source": [
    "Powers['List'] = []\n",
    "for power in range(Powers['Number']):\n",
    "    Power_roll = df[Origin['Origin']].sample().values[0]\n",
    "    print(Power_roll)\n",
    "    Powers['List'].append(Power_roll)\n",
    "    \n",
    "    "
   ]
  },
  {
   "cell_type": "code",
   "execution_count": 31,
   "id": "f6b7d8a5",
   "metadata": {},
   "outputs": [
    {
     "data": {
      "text/plain": [
       "{'Number': 2, 'List': ['Immortality', 'Defect']}"
      ]
     },
     "execution_count": 31,
     "metadata": {},
     "output_type": "execute_result"
    }
   ],
   "source": [
    "Powers"
   ]
  },
  {
   "cell_type": "code",
   "execution_count": 32,
   "id": "cba732fd",
   "metadata": {},
   "outputs": [],
   "source": [
    "#none"
   ]
  },
  {
   "cell_type": "code",
   "execution_count": 33,
   "id": "12c157a4",
   "metadata": {},
   "outputs": [
    {
     "data": {
      "text/plain": [
       "{'Strength': 14,\n",
       " 'Agility': 11,\n",
       " 'Charisma': 10,\n",
       " 'Intelligence': 18,\n",
       " 'Stamina': 10,\n",
       " 'Public Standing': 11,\n",
       " 'Ego': 6,\n",
       " 'Luck': 0}"
      ]
     },
     "execution_count": 33,
     "metadata": {},
     "output_type": "execute_result"
    }
   ],
   "source": [
    "Statistics"
   ]
  },
  {
   "cell_type": "code",
   "execution_count": 34,
   "id": "0d686c65",
   "metadata": {},
   "outputs": [
    {
     "data": {
      "text/plain": [
       "{'Number': 2, 'List': ['Immortality', 'Defect']}"
      ]
     },
     "execution_count": 34,
     "metadata": {},
     "output_type": "execute_result"
    }
   ],
   "source": [
    "Powers"
   ]
  },
  {
   "cell_type": "code",
   "execution_count": 38,
   "id": "aece4096",
   "metadata": {},
   "outputs": [
    {
     "data": {
      "text/plain": [
       "{'Statistics': {'Strength': 14,\n",
       "  'Agility': 11,\n",
       "  'Charisma': 10,\n",
       "  'Intelligence': 18,\n",
       "  'Stamina': 10,\n",
       "  'Public Standing': 11,\n",
       "  'Ego': 6,\n",
       "  'Luck': 0},\n",
       " 'Origin': {'Artifact': 'No',\n",
       "  'Lifespan': 'Human',\n",
       "  'Origin': 'Mutant',\n",
       "  'Age': 16},\n",
       " 'Powers': {'Number': 2, 'List': ['Immortality', 'Defect']},\n",
       " 'Strength_Effects': {},\n",
       " 'Agility_Effects': {},\n",
       " 'Charisma_Effects': {},\n",
       " 'Intelligence_Effects': {},\n",
       " 'Stamina_Effects': {},\n",
       " 'Public Standing_Effects': {},\n",
       " 'Ego_Effects': {},\n",
       " 'Luck_Effects': {}}"
      ]
     },
     "execution_count": 38,
     "metadata": {},
     "output_type": "execute_result"
    }
   ],
   "source": [
    "Character['Statistics'] = Statistics\n",
    "Character['Origin'] = Origin\n",
    "Character['Powers'] = Powers\n",
    "\n",
    "for key in Character['Statistics'].keys():\n",
    "    Character[key + '_Effects'] = {}\n",
    "Character"
   ]
  },
  {
   "cell_type": "code",
   "execution_count": 48,
   "id": "15ef42a8",
   "metadata": {},
   "outputs": [],
   "source": [
    "dfc = pd.read_csv('characteristics.csv', low_memory=False)"
   ]
  },
  {
   "cell_type": "code",
   "execution_count": 49,
   "id": "cc927b72",
   "metadata": {},
   "outputs": [
    {
     "data": {
      "text/plain": [
       "{'Statistics': {'Strength': 14,\n",
       "  'Agility': 11,\n",
       "  'Charisma': 10,\n",
       "  'Intelligence': 18,\n",
       "  'Stamina': 10,\n",
       "  'Public Standing': 11,\n",
       "  'Ego': 6,\n",
       "  'Luck': 0},\n",
       " 'Origin': {'Artifact': 'No',\n",
       "  'Lifespan': 'Human',\n",
       "  'Origin': 'Mutant',\n",
       "  'Age': 16},\n",
       " 'Powers': {'Number': 2, 'List': ['Immortality', 'Defect']},\n",
       " 'Strength_Effects': {'Description': 'Average SB', 'HT': '0', 'DD': '1'},\n",
       " 'Agility_Effects': {'Description': 'Average Person', 'HT': '0', 'DD': '0'},\n",
       " 'Charisma_Effects': {},\n",
       " 'Intelligence_Effects': {},\n",
       " 'Stamina_Effects': {},\n",
       " 'Public Standing_Effects': {},\n",
       " 'Ego_Effects': {},\n",
       " 'Luck_Effects': {}}"
      ]
     },
     "execution_count": 49,
     "metadata": {},
     "output_type": "execute_result"
    }
   ],
   "source": [
    "stat = 'Strength'\n",
    "Character[stat + '_Effects']['Description'] = dfc[stat].iloc[Character['Statistics'][stat]]\n",
    "Character[stat + '_Effects']['HT'] = dfc['ST_HT'].iloc[Character['Statistics'][stat]]\n",
    "Character[stat + '_Effects']['DD'] = dfc['ST_DD'].iloc[Character['Statistics'][stat]]\n",
    "\n",
    "stat = 'Agility'\n",
    "Character[stat + '_Effects']['Description'] = dfc[stat].iloc[Character['Statistics'][stat]]\n",
    "Character[stat + '_Effects']['Move'] = dfc[stat].iloc[Character['Statistics'][stat]]\n",
    "Character[stat + '_Effects']['Accuracy'] = dfc[stat].iloc[Character['Statistics'][stat]]\n",
    "Character[stat + '_Effects']['HT'] = dfc['ST_HT'].iloc[Character['Statistics'][stat]]\n",
    "Character[stat + '_Effects']['DD'] = dfc['ST_DD'].iloc[Character['Statistics'][stat]]\n",
    "\n",
    "Character"
   ]
  },
  {
   "cell_type": "code",
   "execution_count": 47,
   "id": "3f1b5ffa",
   "metadata": {},
   "outputs": [
    {
     "data": {
      "text/plain": [
       "Characteristic     int64\n",
       "Strength          object\n",
       "ST_HT             object\n",
       "ST_DD             object\n",
       "dtype: object"
      ]
     },
     "execution_count": 47,
     "metadata": {},
     "output_type": "execute_result"
    }
   ],
   "source": [
    "dfc.dtypes"
   ]
  },
  {
   "cell_type": "code",
   "execution_count": null,
   "id": "153438b2",
   "metadata": {},
   "outputs": [],
   "source": []
  }
 ],
 "metadata": {
  "kernelspec": {
   "display_name": "Python [conda env:pangeo4]",
   "language": "python",
   "name": "conda-env-pangeo4-py"
  },
  "language_info": {
   "codemirror_mode": {
    "name": "ipython",
    "version": 3
   },
   "file_extension": ".py",
   "mimetype": "text/x-python",
   "name": "python",
   "nbconvert_exporter": "python",
   "pygments_lexer": "ipython3",
   "version": "3.8.12"
  }
 },
 "nbformat": 4,
 "nbformat_minor": 5
}
