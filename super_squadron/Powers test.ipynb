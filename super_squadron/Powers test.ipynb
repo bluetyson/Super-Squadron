{
 "cells": [
  {
   "cell_type": "code",
   "execution_count": 1,
   "id": "fe27db54",
   "metadata": {},
   "outputs": [],
   "source": [
    "import pandas as pd\n",
    "import numpy as np\n",
    "import random\n",
    "import time\n",
    "import datetime\n",
    "import copy\n",
    "import json\n",
    "import math\n"
   ]
  },
  {
   "cell_type": "code",
   "execution_count": 2,
   "id": "5b4e551c",
   "metadata": {},
   "outputs": [],
   "source": [
    "df = pd.read_csv('powers.csv')"
   ]
  },
  {
   "cell_type": "code",
   "execution_count": 11,
   "id": "9e2e98e6",
   "metadata": {},
   "outputs": [],
   "source": [
    "powers_set = set(list(df['Mutant'].unique()) + list(df['Self Developed'].unique())  + list(df['Supernatural'].unique())\\\n",
    "                 + list(df['Designed or Sponsored'].unique()) + list(df['Alien'].unique())+ list(df['Accidental/Scientific'].unique())\\\n",
    "                 + list(df['Mutant Secondary'].unique()) + list(df['Self Developed Secondary'].unique())\\\n",
    "                 + list(df['Designed or Sponsored Secondary'].unique()) + list(df['Alien Secondary'].unique())\\\n",
    "                 + list(df['Accidental/Scientific Secondary'].unique())\n",
    "                )"
   ]
  },
  {
   "cell_type": "code",
   "execution_count": 13,
   "id": "32499030",
   "metadata": {},
   "outputs": [
    {
     "name": "stdout",
     "output_type": "stream",
     "text": [
      "77\n"
     ]
    },
    {
     "data": {
      "text/plain": [
       "{'Adaption',\n",
       " 'Air Generation',\n",
       " 'Animal Affinity',\n",
       " 'Armour',\n",
       " 'Astral Projection',\n",
       " 'Body Augmentation',\n",
       " 'Cybernetics',\n",
       " 'Darkness Generation',\n",
       " 'Death Touch',\n",
       " 'Defect',\n",
       " 'Density Control',\n",
       " 'Dimensional Gate',\n",
       " 'Disintegration Beam',\n",
       " 'Ego Change',\n",
       " 'Elasticity',\n",
       " 'Emotion Control',\n",
       " 'Energy Absorption',\n",
       " 'Enhanced Agility',\n",
       " 'Enhanced Charisma',\n",
       " 'Enhanced Intelligence',\n",
       " 'Enhanced Stamina',\n",
       " 'Enhanced Strength',\n",
       " 'Environment Control',\n",
       " 'Fast Recovery',\n",
       " 'Flame Generation',\n",
       " 'Flight',\n",
       " 'Force Beam',\n",
       " 'Force Field',\n",
       " 'Gimmick',\n",
       " 'Gravity Control',\n",
       " 'Heightened Attack',\n",
       " 'Heightened Defense',\n",
       " 'Heightened Expertise',\n",
       " 'Heightened Senses',\n",
       " 'Heightened Speed',\n",
       " 'Ice Generation',\n",
       " 'Ice Gneration',\n",
       " 'Immateriality',\n",
       " 'Immortality',\n",
       " 'Inherent Power',\n",
       " 'Invisibility',\n",
       " 'Invulnerability',\n",
       " 'Light Control',\n",
       " 'Lightning/Electrical Control',\n",
       " 'Magic Device',\n",
       " 'Magic Spells',\n",
       " 'Magnetic Manipulation',\n",
       " 'Metamorphosis',\n",
       " 'Mimic',\n",
       " 'Mind Control',\n",
       " 'Mind Power',\n",
       " 'Multiplex',\n",
       " 'Mutation',\n",
       " 'Non-Requirement of Air',\n",
       " 'Organic Powers',\n",
       " 'Out of Phase Detection',\n",
       " 'Paralysis Ray',\n",
       " 'Pet or Companion',\n",
       " 'Phantasmal Forces',\n",
       " 'Regeneration',\n",
       " 'Revivication',\n",
       " 'Robotic Body',\n",
       " 'Roll again twice',\n",
       " 'Self Discipline',\n",
       " 'Shape Shift',\n",
       " 'Size Change',\n",
       " 'Sonic Abilities',\n",
       " 'Special Vehicle',\n",
       " 'Special Vehjcle',\n",
       " 'Special Weapon',\n",
       " 'Teleportation',\n",
       " 'Temperature Control',\n",
       " 'Terra Generation',\n",
       " 'Time Travel',\n",
       " 'Water Breathing',\n",
       " 'Weakness Detection',\n",
       " 'Weather Control'}"
      ]
     },
     "execution_count": 13,
     "metadata": {},
     "output_type": "execute_result"
    }
   ],
   "source": [
    "print(len(powers_set))\n",
    "powers_set"
   ]
  },
  {
   "cell_type": "code",
   "execution_count": null,
   "id": "40d9835a",
   "metadata": {},
   "outputs": [],
   "source": []
  }
 ],
 "metadata": {
  "kernelspec": {
   "display_name": "Python [conda env:pangeo4]",
   "language": "python",
   "name": "conda-env-pangeo4-py"
  },
  "language_info": {
   "codemirror_mode": {
    "name": "ipython",
    "version": 3
   },
   "file_extension": ".py",
   "mimetype": "text/x-python",
   "name": "python",
   "nbconvert_exporter": "python",
   "pygments_lexer": "ipython3",
   "version": "3.8.12"
  }
 },
 "nbformat": 4,
 "nbformat_minor": 5
}
