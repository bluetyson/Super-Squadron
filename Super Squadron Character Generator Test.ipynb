{
 "cells": [
  {
   "cell_type": "code",
   "execution_count": 14,
   "id": "35493fb9",
   "metadata": {},
   "outputs": [],
   "source": [
    "import pandas as pd\n",
    "import numpy as np\n",
    "import random\n",
    "import time\n",
    "import datetime\n",
    "import copy\n",
    "import json\n",
    "import math\n"
   ]
  },
  {
   "cell_type": "code",
   "execution_count": 15,
   "id": "bfa74259",
   "metadata": {},
   "outputs": [],
   "source": [
    "#All Designed/Sponsored have devices\n",
    "#Some aliens have devices institute that for alien powers"
   ]
  },
  {
   "cell_type": "code",
   "execution_count": 16,
   "id": "71c62afa",
   "metadata": {},
   "outputs": [],
   "source": [
    "Character = {}\n",
    "Character['Statistics'] = {}\n",
    "Character['Origin'] = {}\n",
    "Character['Powers'] = {}"
   ]
  },
  {
   "cell_type": "code",
   "execution_count": 17,
   "id": "a093eb6e",
   "metadata": {},
   "outputs": [],
   "source": [
    "def roll_statistic():\n",
    "    statistic = np.random.randint(1,20)\n",
    "    return statistic\n",
    "\n",
    "def roll_luck():\n",
    "    luck = 0\n",
    "    roll = np.random.randint(1,100)\n",
    "    if roll < 11:\n",
    "        luck = 11 - roll\n",
    "    return luck\n",
    "\n",
    "def roll_origin():\n",
    "    origin_dict = {}\n",
    "    roll = np.random.randint(1,10)\n",
    "    origin_dict['Artifact'] = \"No\"\n",
    "    origin_dict['Lifespan'] = \"Human\"\n",
    "    if roll <= 3:\n",
    "        origin = \"Mutant\"\n",
    "        age = np.random.randint(1,12) + 15\n",
    "    elif roll == 4:\n",
    "        origin = \"Self Developed\"\n",
    "        age = np.random.randint(1,12) + 25\n",
    "    elif roll == 5:\n",
    "        origin = \"Supernatural\"\n",
    "        age = np.random.randint(1,10) + 20\n",
    "    elif roll == 6:\n",
    "        origin = \"Designed or Sponsored\"\n",
    "        age = np.random.randint(1,12) + 25\n",
    "    elif roll == 10:\n",
    "        origin = \"Alien\"\n",
    "        age = np.random.randint(1,10) * np.random.randint(1,6)\n",
    "        lifespan = np.random.randint(1,20) * np.random.randint(1,20)\n",
    "    else:\n",
    "        origin = \"Accidental/Scientific\"\n",
    "        age = np.random.randint(1,8) * np.random.randint(1,6) + 25\n",
    "        artifact_roll = np.random.randint(1,100)\n",
    "        if artifact_roll <= 5:\n",
    "            origin_dict['Artifact'] = \"Yes\"\n",
    "        \n",
    "    origin_dict['Origin'] = origin\n",
    "    origin_dict['Age'] = age\n",
    "    return origin_dict\n",
    "\n",
    "def roll_effects(number, dice_sides):\n",
    "    roll_total = 0\n",
    "    for roll in range(number):\n",
    "        dice_roll = np.random.randint(1,dice_sides)\n",
    "        roll_total = roll_total + dice_roll\n",
    "        \n",
    "    return roll_total"
   ]
  },
  {
   "cell_type": "code",
   "execution_count": 18,
   "id": "e1c5f3f8",
   "metadata": {},
   "outputs": [],
   "source": [
    "Statistics = {\"Strength\":10,\"Agility\":10,\"Charisma\":10,\"Intelligence\":10,\"Stamina\":10,\n",
    "              \"PublicStanding\":11,\"Ego\":11,\"Luck\":0}\n",
    "Statistics_Abv = ['ST','AG','CH','IQ','SA','PS','EG','LK']"
   ]
  },
  {
   "cell_type": "markdown",
   "id": "dd53c8ab",
   "metadata": {},
   "source": [
    "## Roll Main Statistics"
   ]
  },
  {
   "cell_type": "markdown",
   "id": "41fcb223",
   "metadata": {},
   "source": [
    "Can reroll if main stats are not greater than 60"
   ]
  },
  {
   "cell_type": "code",
   "execution_count": 19,
   "id": "6783055f",
   "metadata": {},
   "outputs": [
    {
     "name": "stdout",
     "output_type": "stream",
     "text": [
      "Strength 18\n",
      "Agility 4\n",
      "Charisma 8\n",
      "Intelligence 19\n",
      "Stamina 15\n",
      "Total: 64\n"
     ]
    }
   ],
   "source": [
    "stats_total = 0\n",
    "while stats_total <= 60:\n",
    "    stats_total = 0\n",
    "    for index, key in enumerate(Statistics.keys()):\n",
    "        if index < 5:\n",
    "            Statistics[key] = roll_statistic()\n",
    "            stats_total = stats_total + Statistics[key]\n",
    "            print(key, Statistics[key])\n",
    "    print(\"Total:\", stats_total)"
   ]
  },
  {
   "cell_type": "markdown",
   "id": "5a0ee957",
   "metadata": {},
   "source": [
    "## Roll Other Statistics"
   ]
  },
  {
   "cell_type": "code",
   "execution_count": 20,
   "id": "80bac805",
   "metadata": {},
   "outputs": [
    {
     "data": {
      "text/plain": [
       "{'Strength': 18,\n",
       " 'Agility': 4,\n",
       " 'Charisma': 8,\n",
       " 'Intelligence': 19,\n",
       " 'Stamina': 15,\n",
       " 'PublicStanding': 11,\n",
       " 'Ego': 18,\n",
       " 'Luck': 0}"
      ]
     },
     "execution_count": 20,
     "metadata": {},
     "output_type": "execute_result"
    }
   ],
   "source": [
    "Statistics['Ego'] = roll_statistic()\n",
    "Statistics['Luck'] = roll_luck()\n",
    "\n",
    "Statistics"
   ]
  },
  {
   "cell_type": "markdown",
   "id": "0b4f196f",
   "metadata": {},
   "source": [
    "## Roll Origin"
   ]
  },
  {
   "cell_type": "code",
   "execution_count": 21,
   "id": "295d6841",
   "metadata": {},
   "outputs": [
    {
     "data": {
      "text/plain": [
       "{'Artifact': 'No',\n",
       " 'Lifespan': 'Human',\n",
       " 'Origin': 'Accidental/Scientific',\n",
       " 'Age': 37}"
      ]
     },
     "execution_count": 21,
     "metadata": {},
     "output_type": "execute_result"
    }
   ],
   "source": [
    "Origin = roll_origin()\n",
    "Origin"
   ]
  },
  {
   "cell_type": "code",
   "execution_count": 22,
   "id": "91f9faa3",
   "metadata": {},
   "outputs": [],
   "source": [
    "df = pd.read_csv('data/powers.csv')"
   ]
  },
  {
   "cell_type": "markdown",
   "id": "b40ce8e4",
   "metadata": {},
   "source": [
    "## Roll Powers"
   ]
  },
  {
   "cell_type": "markdown",
   "id": "76e32a02",
   "metadata": {},
   "source": [
    "### Number of Powers"
   ]
  },
  {
   "cell_type": "code",
   "execution_count": 23,
   "id": "9f31ce0b",
   "metadata": {},
   "outputs": [
    {
     "data": {
      "text/plain": [
       "{'Number': 3}"
      ]
     },
     "execution_count": 23,
     "metadata": {},
     "output_type": "execute_result"
    }
   ],
   "source": [
    "Powers_roll = df['Powers'].sample()\n",
    "Powers = {}\n",
    "Powers['Number'] = Powers_roll.values[0]\n",
    "\n",
    "if Statistics['Luck'] > 0:\n",
    "    if Statistics['Luck'] == 10:\n",
    "        Powers = Powers + 1\n",
    "        roll = np.random.randint(1,100)\n",
    "        if roll <= 25:\n",
    "            Powers = Powers + 1\n",
    "    elif Statistics['Luck'] <= 9 and Statistics['Luck'] >= 7:\n",
    "        roll = np.random.randint(1,100)\n",
    "        if roll <= 75:\n",
    "            Powers = Powers + 1\n",
    "    elif Statistics['Luck'] <= 6 and Statistics['Luck'] >= 4:\n",
    "        roll = np.random.randint(1,100)\n",
    "        if roll <= 50:\n",
    "            Powers = Powers + 1\n",
    "    else:\n",
    "        roll = np.random.randint(1,100)\n",
    "        if roll <= 25:\n",
    "            Powers = Powers + 1\n",
    "    \n",
    "Powers    "
   ]
  },
  {
   "cell_type": "code",
   "execution_count": 24,
   "id": "0a521270",
   "metadata": {},
   "outputs": [
    {
     "name": "stdout",
     "output_type": "stream",
     "text": [
      "Weather Control\n",
      "Enhanced Stamina\n",
      "Dimensional Gate\n"
     ]
    }
   ],
   "source": [
    "Powers['List'] = []\n",
    "for power in range(Powers['Number']):\n",
    "    Power_roll = df[Origin['Origin']].sample().values[0]\n",
    "    print(Power_roll)\n",
    "    Powers['List'].append(Power_roll)\n",
    "        "
   ]
  },
  {
   "cell_type": "code",
   "execution_count": 45,
   "id": "b9a39ab8",
   "metadata": {},
   "outputs": [],
   "source": [
    "Powers['Detail'] = {}\n",
    "for power in Powers['List']:\n",
    "    Powers['Detail'][power] = {}"
   ]
  },
  {
   "cell_type": "code",
   "execution_count": 27,
   "id": "f67f82fc",
   "metadata": {},
   "outputs": [
    {
     "data": {
      "text/plain": [
       "{'Strength': 18,\n",
       " 'Agility': 4,\n",
       " 'Charisma': 8,\n",
       " 'Intelligence': 19,\n",
       " 'Stamina': 15,\n",
       " 'PublicStanding': 11,\n",
       " 'Ego': 18,\n",
       " 'Luck': 0}"
      ]
     },
     "execution_count": 27,
     "metadata": {},
     "output_type": "execute_result"
    }
   ],
   "source": [
    "Statistics"
   ]
  },
  {
   "cell_type": "code",
   "execution_count": 28,
   "id": "71be251c",
   "metadata": {},
   "outputs": [
    {
     "data": {
      "text/plain": [
       "{'Number': 3,\n",
       " 'List': ['Weather Control', 'Enhanced Stamina', 'Dimensional Gate']}"
      ]
     },
     "execution_count": 28,
     "metadata": {},
     "output_type": "execute_result"
    }
   ],
   "source": [
    "Powers"
   ]
  },
  {
   "cell_type": "code",
   "execution_count": 29,
   "id": "0c18dfb6",
   "metadata": {},
   "outputs": [
    {
     "data": {
      "text/plain": [
       "{'Statistics': {'Strength': 18,\n",
       "  'Agility': 4,\n",
       "  'Charisma': 8,\n",
       "  'Intelligence': 19,\n",
       "  'Stamina': 15,\n",
       "  'PublicStanding': 11,\n",
       "  'Ego': 18,\n",
       "  'Luck': 0},\n",
       " 'Origin': {'Artifact': 'No',\n",
       "  'Lifespan': 'Human',\n",
       "  'Origin': 'Accidental/Scientific',\n",
       "  'Age': 37},\n",
       " 'Powers': {'Number': 3,\n",
       "  'List': ['Weather Control', 'Enhanced Stamina', 'Dimensional Gate']},\n",
       " 'Strength_Effects': {},\n",
       " 'Agility_Effects': {},\n",
       " 'Charisma_Effects': {},\n",
       " 'Intelligence_Effects': {},\n",
       " 'Stamina_Effects': {},\n",
       " 'PublicStanding_Effects': {},\n",
       " 'Ego_Effects': {},\n",
       " 'Luck_Effects': {}}"
      ]
     },
     "execution_count": 29,
     "metadata": {},
     "output_type": "execute_result"
    }
   ],
   "source": [
    "Character['Statistics'] = Statistics\n",
    "Character['Origin'] = Origin\n",
    "Character['Powers'] = Powers\n",
    "\n",
    "for key in Character['Statistics'].keys():\n",
    "    Character[key + '_Effects'] = {}\n",
    "Character"
   ]
  },
  {
   "cell_type": "code",
   "execution_count": 31,
   "id": "3af08b49",
   "metadata": {},
   "outputs": [],
   "source": [
    "dfc = pd.read_csv('data/characteristics.csv', low_memory=False)"
   ]
  },
  {
   "cell_type": "markdown",
   "id": "d526335f",
   "metadata": {},
   "source": [
    "## Characteristic Effects\n",
    "### note that this doesn't take any powers into account currently"
   ]
  },
  {
   "cell_type": "code",
   "execution_count": 32,
   "id": "b577f234",
   "metadata": {},
   "outputs": [
    {
     "data": {
      "text/plain": [
       "{'Statistics': {'Strength': 18,\n",
       "  'Agility': 4,\n",
       "  'Charisma': 8,\n",
       "  'Intelligence': 19,\n",
       "  'Stamina': 15,\n",
       "  'PublicStanding': 11,\n",
       "  'Ego': 18,\n",
       "  'Luck': 0},\n",
       " 'Origin': {'Artifact': 'No',\n",
       "  'Lifespan': 'Human',\n",
       "  'Origin': 'Accidental/Scientific',\n",
       "  'Age': 37},\n",
       " 'Powers': {'Number': 3,\n",
       "  'List': ['Weather Control', 'Enhanced Stamina', 'Dimensional Gate']},\n",
       " 'Strength_Effects': {'Description': 'Strength of two men',\n",
       "  'HT': '1',\n",
       "  'DD': 3},\n",
       " 'Agility_Effects': {'Description': 'Slow',\n",
       "  'Move': 45,\n",
       "  'Accuracy': -10,\n",
       "  'HT': -1,\n",
       "  'DD': 0},\n",
       " 'Charisma_Effects': {'ReactionHero': 5, 'ReactionVillain': -5},\n",
       " 'Intelligence_Effects': {'Accuracy': 10,\n",
       "  'HT': 2,\n",
       "  'DD': 1,\n",
       "  'DetectEntrances': 20,\n",
       "  'DetectTraps': 27},\n",
       " 'Stamina_Effects': {},\n",
       " 'PublicStanding_Effects': {'ReactionDM': 0},\n",
       " 'Ego_Effects': {'Description': 'Conceited',\n",
       "  'CompulsoryRetreat': 0,\n",
       "  'WillingRetreat': 20,\n",
       "  'HP': 15},\n",
       " 'Luck_Effects': {}}"
      ]
     },
     "execution_count": 32,
     "metadata": {},
     "output_type": "execute_result"
    }
   ],
   "source": [
    "stat = 'Strength'\n",
    "Character[stat + '_Effects']['Description'] = dfc[stat].iloc[Character['Statistics'][stat]]\n",
    "Character[stat + '_Effects']['HT'] = dfc[stat + '_HT'].iloc[Character['Statistics'][stat]]\n",
    "Character[stat + '_Effects']['DD'] = dfc[stat + '_DD'].iloc[Character['Statistics'][stat]]\n",
    "\n",
    "if 'd' in Character[stat + '_Effects']['HT']:\n",
    "    if '+' not in Character[stat + '_Effects']['HT']:\n",
    "        roll_list = Character[stat + '_Effects']['HT'].split('d')\n",
    "        Character[stat + '_Effects']['HT'] = roll_effects( int(roll_list[0]), int(roll_list[1]))\n",
    "    else:\n",
    "        roll_list_plus = Character[stat + '_Effects']['HT'].split('+')\n",
    "        roll_list = roll_list_plus[0].split('d')\n",
    "        Character[stat + '_Effects']['HT'] = roll_effects( int(roll_list[0]), int(roll_list[1])) + int(roll_list_plus[1])\n",
    "if 'd' in Character[stat + '_Effects']['DD']:\n",
    "    if '+' not in Character[stat + '_Effects']['DD']:\n",
    "        roll_list = Character[stat + '_Effects']['DD'].split('d')\n",
    "        Character[stat + '_Effects']['DD'] = roll_effects( int(roll_list[0]), int(roll_list[1]))\n",
    "    else:\n",
    "        roll_list_plus = Character[stat + '_Effects']['DD'].split('+')\n",
    "        roll_list = roll_list_plus[0].split('d')\n",
    "        Character[stat + '_Effects']['DD'] = roll_effects( int(roll_list[0]), int(roll_list[1])) + int(roll_list_plus[1])\n",
    "\n",
    "stat = 'Agility'\n",
    "Character[stat + '_Effects']['Description'] = dfc[stat].iloc[Character['Statistics'][stat]]\n",
    "Character[stat + '_Effects']['Move'] = dfc[stat + '_Move'].iloc[Character['Statistics'][stat]]\n",
    "Character[stat + '_Effects']['Accuracy'] = dfc[stat + '_Accuracy'].iloc[Character['Statistics'][stat]]\n",
    "Character[stat + '_Effects']['HT'] = dfc[stat + '_HT'].iloc[Character['Statistics'][stat]]\n",
    "Character[stat + '_Effects']['DD'] = dfc[stat + '_DD'].iloc[Character['Statistics'][stat]]\n",
    "\n",
    "stat = 'Charisma'\n",
    "Character[stat + '_Effects']['ReactionHero'] = dfc[stat + '_ReactionHero'].iloc[Character['Statistics'][stat]]\n",
    "Character[stat + '_Effects']['ReactionVillain'] = dfc[stat + '_ReactionVillain'].iloc[Character['Statistics'][stat]]\n",
    "\n",
    "stat = 'Intelligence'\n",
    "Character[stat + '_Effects']['Accuracy'] = dfc[stat + '_Accuracy'].iloc[Character['Statistics'][stat]]\n",
    "Character[stat + '_Effects']['HT'] = dfc[stat + '_HT'].iloc[Character['Statistics'][stat]]\n",
    "Character[stat + '_Effects']['DD'] = dfc[stat + '_DD'].iloc[Character['Statistics'][stat]]\n",
    "Character[stat + '_Effects']['DetectEntrances'] = dfc[stat + '_DetectEntrances'].iloc[Character['Statistics'][stat]]\n",
    "Character[stat + '_Effects']['DetectTraps'] = dfc[stat + '_DetectTraps'].iloc[Character['Statistics'][stat]]\n",
    "\n",
    "if 'd' in Character[stat + '_Effects']['DetectEntrances']:\n",
    "    roll_list = Character[stat + '_Effects']['DetectEntrances'].split('d')\n",
    "    Character[stat + '_Effects']['DetectEntrances'] = roll_effects( int(roll_list[0]), int(roll_list[1]))\n",
    "\n",
    "if 'd' in Character[stat + '_Effects']['DetectTraps']:\n",
    "    roll_list = Character[stat + '_Effects']['DetectTraps'].split('d')\n",
    "    Character[stat + '_Effects']['DetectTraps'] = roll_effects( int(roll_list[0]), int(roll_list[1]))\n",
    "    \n",
    "\n",
    "stat = 'Ego'\n",
    "Character[stat + '_Effects']['Description'] = dfc[stat].iloc[Character['Statistics'][stat]]\n",
    "Character[stat + '_Effects']['CompulsoryRetreat'] = dfc[stat + '_CompulsoryRetreat'].iloc[Character['Statistics'][stat]]\n",
    "Character[stat + '_Effects']['WillingRetreat'] = dfc[stat + '_WillingRetreat'].iloc[Character['Statistics'][stat]]\n",
    "Character[stat + '_Effects']['HP'] = dfc[stat + '_HP'].iloc[Character['Statistics'][stat]]\n",
    "\n",
    "stat = 'PublicStanding'\n",
    "Character[stat + '_Effects']['ReactionDM'] = dfc[stat + '_ReactionDM'].iloc[Character['Statistics'][stat]]\n",
    "\n",
    "    \n",
    "Character"
   ]
  },
  {
   "cell_type": "code",
   "execution_count": 33,
   "id": "d7564c4b",
   "metadata": {},
   "outputs": [
    {
     "data": {
      "text/plain": [
       "Characteristic                    int64\n",
       "Strength                         object\n",
       "Strength_HT                      object\n",
       "Strength_DD                      object\n",
       "Agility                          object\n",
       "Agility_Move                      int64\n",
       "Agility_Accuracy                  int64\n",
       "Agility_HT                        int64\n",
       "Agility_DD                        int64\n",
       "Charisma                         object\n",
       "Charisma_ReactionHero             int64\n",
       "Charisma_ReactionVillain          int64\n",
       "Intelligence                     object\n",
       "Intelligence_HT                   int64\n",
       "Intelligence_DD                   int64\n",
       "Intelligence_Accuracy             int64\n",
       "Intelligence_DetectEntrances     object\n",
       "Intelligence_DetectTraps         object\n",
       "Ego                              object\n",
       "Ego_CompulsoryRetreat             int64\n",
       "Ego_WillingRetreat                int64\n",
       "Ego_HP                            int64\n",
       "PublicStanding_ReactionDM         int64\n",
       "Height                          float64\n",
       "Height_WeightDM                  object\n",
       "Weight                            int64\n",
       "Job                              object\n",
       "Pay                              object\n",
       "PatrolDM                         object\n",
       "JobNPCLow                        object\n",
       "JobNPCHigh                       object\n",
       "dtype: object"
      ]
     },
     "execution_count": 33,
     "metadata": {},
     "output_type": "execute_result"
    }
   ],
   "source": [
    "dfc.dtypes"
   ]
  },
  {
   "cell_type": "markdown",
   "id": "d8237d53",
   "metadata": {},
   "source": [
    "## Calculated Statistics"
   ]
  },
  {
   "cell_type": "code",
   "execution_count": 34,
   "id": "29ceef77",
   "metadata": {},
   "outputs": [
    {
     "data": {
      "text/plain": [
       "14"
      ]
     },
     "execution_count": 34,
     "metadata": {},
     "output_type": "execute_result"
    }
   ],
   "source": [
    "def normal_round(n):\n",
    "    if n - math.floor(n) < 0.5:\n",
    "        return math.floor(n)\n",
    "    return math.ceil(n)\n",
    "\n",
    "HitPoints = int(normal_round(float(Character['Statistics']['Stamina'])/2))\n",
    "HitPoints = HitPoints + np.random.randint(1,10)\n",
    "HitPoints = HitPoints + Character['Statistics']['Luck']\n",
    "HitPoints = HitPoints + int(Character['Strength_Effects']['HT'])\n",
    "HitPoints = HitPoints + int(Character['Agility_Effects']['HT'])\n",
    "HitPoints = HitPoints + int(Character['Intelligence_Effects']['HT'])\n",
    "\n",
    "Character['HitPoints'] = HitPoints\n",
    "Character['HitPoints']"
   ]
  },
  {
   "cell_type": "code",
   "execution_count": 35,
   "id": "1e3b620e",
   "metadata": {},
   "outputs": [
    {
     "data": {
      "text/plain": [
       "54"
      ]
     },
     "execution_count": 35,
     "metadata": {},
     "output_type": "execute_result"
    }
   ],
   "source": [
    "ActionPotential = Character['Statistics']['Strength']\n",
    "ActionPotential = ActionPotential + int(normal_round(float(Character['Statistics']['Intelligence'])/2))\n",
    "ActionPotential = ActionPotential + Character['Statistics']['Stamina']\n",
    "ActionPotential = ActionPotential + int(normal_round(float(Character['Statistics']['Agility'])/2))\n",
    "ActionPotential = ActionPotential + int(normal_round(float(Character['Statistics']['Ego'])/2))\n",
    "ActionPotential = ActionPotential + + Character['Statistics']['Luck']\n",
    "\n",
    "Character['ActionPotential'] = ActionPotential\n",
    "Character['ActionPotential']"
   ]
  },
  {
   "cell_type": "code",
   "execution_count": 36,
   "id": "7756acde",
   "metadata": {},
   "outputs": [
    {
     "data": {
      "text/plain": [
       "4"
      ]
     },
     "execution_count": 36,
     "metadata": {},
     "output_type": "execute_result"
    }
   ],
   "source": [
    "DirectDamage = int(Character['Strength_Effects']['DD'])\n",
    "DirectDamage = DirectDamage + int(Character['Agility_Effects']['DD'])\n",
    "DirectDamage = DirectDamage + int(Character['Intelligence_Effects']['DD'])\n",
    "\n",
    "Character['DirectDamage'] = DirectDamage\n",
    "Character['DirectDamage']"
   ]
  },
  {
   "cell_type": "code",
   "execution_count": 37,
   "id": "09bf48bb",
   "metadata": {},
   "outputs": [
    {
     "data": {
      "text/plain": [
       "39    182.5\n",
       "Name: Height, dtype: float64"
      ]
     },
     "execution_count": 37,
     "metadata": {},
     "output_type": "execute_result"
    }
   ],
   "source": [
    "sex_roll = np.random.randint(1,100)\n",
    "if sex_roll <= 50:\n",
    "    Character['Sex'] = 'Female'\n",
    "    height_mod = roll_effects(5,4) * -1\n",
    "else:\n",
    "    Character['Sex'] = 'Male'\n",
    "    height_mod = 0\n",
    "    \n",
    "Height_roll = dfc['Height'].sample()\n",
    "Height_roll"
   ]
  },
  {
   "cell_type": "code",
   "execution_count": 38,
   "id": "92afca9f",
   "metadata": {},
   "outputs": [
    {
     "data": {
      "text/plain": [
       "60"
      ]
     },
     "execution_count": 38,
     "metadata": {},
     "output_type": "execute_result"
    }
   ],
   "source": [
    "WeightDM = dfc.iloc[Height_roll.index]['Height_WeightDM'].values[0]\n",
    "if 'd' in WeightDM:\n",
    "    roll_list = WeightDM.split('d')\n",
    "    weight_mod = roll_effects( int(roll_list[0]), int(roll_list[1]))\n",
    "    if Character['Height'] < 190:\n",
    "        weight_mod = weight_mod * -1\n",
    "else:\n",
    "    weight_mod = int(WeightDM)\n",
    "    \n",
    "Weight_roll = dfc['Weight'].sample().values[0]\n",
    "\n",
    "Character['Height'] = Height_roll.values[0] + height_mod\n",
    "\n",
    "Character['Weight'] = int(Weight_roll) + weight_mod\n",
    "Character['Weight']"
   ]
  },
  {
   "cell_type": "markdown",
   "id": "74168046",
   "metadata": {},
   "source": [
    "## Profession"
   ]
  },
  {
   "cell_type": "code",
   "execution_count": 39,
   "id": "71dc88b9",
   "metadata": {},
   "outputs": [],
   "source": [
    "Job_roll = dfc['Job'].sample()\n",
    "\n",
    "Character['Job'] = Job_roll.values[0]\n",
    "\n",
    "Pay = dfc.iloc[Job_roll.index]['Pay'].values[0]\n",
    "if 'd' in Pay:\n",
    "    roll_list_plus = Pay.split('+')\n",
    "    roll_list = roll_list_plus[1].split('d')\n",
    "    Character['Pay'] = roll_effects( int(roll_list[0]), int(roll_list[1])) + int(roll_list_plus[0])\n",
    "    \n",
    "PatrolDM = dfc.iloc[Job_roll.index]['PatrolDM'].values[0]    \n",
    "\n",
    "if 'Other' in Character['Job']:\n",
    "    other_roll = np.random.randint(1,6)\n",
    "    if other_roll == 1:\n",
    "        Character['Job'] = 'Supergroup'\n",
    "    elif other_roll == 2:\n",
    "        Character['Job'] = 'Mercenary'\n",
    "    elif other_roll == 3:\n",
    "        Character['Job'] = 'Spy'\n",
    "    elif other_roll == 4:\n",
    "        Character['Job'] = 'Millionaire'\n",
    "    elif other_roll == 5:\n",
    "        Character['Job'] = 'Alien Scout or God'\n",
    "    else:\n",
    "        Character['Job'] = 'Supernatural Investigator'\n",
    "\n",
    "if 'NPC' in Character['Job']:\n",
    "    roll_high = np.random.randint(1,6)\n",
    "    if roll_high <= 3:\n",
    "        Job_npc_roll = dfc['JobNPCLow'].sample()\n",
    "    else:\n",
    "        Job_npc_roll = dfc['JobNPCHight'].sample()\n",
    "    Character['Job'] = Job_npc_roll.values[0]"
   ]
  },
  {
   "cell_type": "markdown",
   "id": "d5122c19",
   "metadata": {},
   "source": [
    "Characters can start with a skill appropriate to their profession from the table"
   ]
  },
  {
   "cell_type": "markdown",
   "id": "e27dadb4",
   "metadata": {},
   "source": [
    "### Other Skill"
   ]
  },
  {
   "cell_type": "code",
   "execution_count": 40,
   "id": "9a9a3cbb",
   "metadata": {},
   "outputs": [],
   "source": [
    "Skill_roll = np.random.randint(1,100)\n",
    "if Skill_roll < ( int(Character['Origin']['Age']) + int(Character['Statistics']['Luck']) ):\n",
    "    Character['OtherSkill'] = \"Yes\"\n",
    "else:\n",
    "    Character['OtherSkill'] = \"No\""
   ]
  },
  {
   "cell_type": "code",
   "execution_count": 46,
   "id": "de25cfcd",
   "metadata": {},
   "outputs": [
    {
     "data": {
      "text/plain": [
       "{'Statistics': {'Strength': 18,\n",
       "  'Agility': 4,\n",
       "  'Charisma': 8,\n",
       "  'Intelligence': 19,\n",
       "  'Stamina': 15,\n",
       "  'PublicStanding': 11,\n",
       "  'Ego': 18,\n",
       "  'Luck': 0},\n",
       " 'Origin': {'Artifact': 'No',\n",
       "  'Lifespan': 'Human',\n",
       "  'Origin': 'Accidental/Scientific',\n",
       "  'Age': 37},\n",
       " 'Powers': {'Number': 3,\n",
       "  'List': ['Weather Control', 'Enhanced Stamina', 'Dimensional Gate'],\n",
       "  'Detail': {'Weather Control': {},\n",
       "   'Enhanced Stamina': {},\n",
       "   'Dimensional Gate': {}}},\n",
       " 'Strength_Effects': {'Description': 'Strength of two men',\n",
       "  'HT': '1',\n",
       "  'DD': 3},\n",
       " 'Agility_Effects': {'Description': 'Slow',\n",
       "  'Move': 45,\n",
       "  'Accuracy': -10,\n",
       "  'HT': -1,\n",
       "  'DD': 0},\n",
       " 'Charisma_Effects': {'ReactionHero': 5, 'ReactionVillain': -5},\n",
       " 'Intelligence_Effects': {'Accuracy': 10,\n",
       "  'HT': 2,\n",
       "  'DD': 1,\n",
       "  'DetectEntrances': 20,\n",
       "  'DetectTraps': 27},\n",
       " 'Stamina_Effects': {},\n",
       " 'PublicStanding_Effects': {'ReactionDM': 0},\n",
       " 'Ego_Effects': {'Description': 'Conceited',\n",
       "  'CompulsoryRetreat': 0,\n",
       "  'WillingRetreat': 20,\n",
       "  'HP': 15},\n",
       " 'Luck_Effects': {},\n",
       " 'HitPoints': 14,\n",
       " 'ActionPotential': 54,\n",
       " 'DirectDamage': 4,\n",
       " 'Sex': 'Male',\n",
       " 'Height': 182.5,\n",
       " 'Weight': 60,\n",
       " 'Job': 'Lawyer',\n",
       " 'Pay': 350,\n",
       " 'OtherSkill': 'Yes'}"
      ]
     },
     "execution_count": 46,
     "metadata": {},
     "output_type": "execute_result"
    }
   ],
   "source": [
    "Character"
   ]
  },
  {
   "cell_type": "code",
   "execution_count": 9,
   "id": "083d56eb",
   "metadata": {},
   "outputs": [
    {
     "data": {
      "text/plain": [
       "<function super_squadron.powers.printtest()>"
      ]
     },
     "execution_count": 9,
     "metadata": {},
     "output_type": "execute_result"
    }
   ],
   "source": [
    "from super_squadron import powers as pw\n",
    "pw.printtest"
   ]
  },
  {
   "cell_type": "code",
   "execution_count": 47,
   "id": "d10c574d",
   "metadata": {},
   "outputs": [],
   "source": [
    "def np_encoder(object):\n",
    "    if isinstance(object, np.generic):\n",
    "        return object.item()\n",
    "\n",
    "with open('character_test.json', 'w') as f:\n",
    "    json.dump(Character, f, default=np_encoder)\n"
   ]
  },
  {
   "cell_type": "code",
   "execution_count": null,
   "id": "340a366e",
   "metadata": {},
   "outputs": [],
   "source": []
  }
 ],
 "metadata": {
  "kernelspec": {
   "display_name": "Python [conda env:pangeo4]",
   "language": "python",
   "name": "conda-env-pangeo4-py"
  },
  "language_info": {
   "codemirror_mode": {
    "name": "ipython",
    "version": 3
   },
   "file_extension": ".py",
   "mimetype": "text/x-python",
   "name": "python",
   "nbconvert_exporter": "python",
   "pygments_lexer": "ipython3",
   "version": "3.8.12"
  }
 },
 "nbformat": 4,
 "nbformat_minor": 5
}
